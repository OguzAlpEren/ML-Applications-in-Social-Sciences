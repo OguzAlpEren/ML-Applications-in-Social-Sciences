{
  "nbformat": 4,
  "nbformat_minor": 0,
  "metadata": {
    "colab": {
      "provenance": [],
      "collapsed_sections": [
        "FkMfqGgB5hTR",
        "kYuvdKZjZPYz",
        "0mXpvsLtZZKc",
        "rYj0Um4B5zhy",
        "L8FWyA34gRaa",
        "0HJWkeZmaeg0"
      ],
      "toc_visible": true
    },
    "kernelspec": {
      "name": "python3",
      "display_name": "Python 3"
    },
    "language_info": {
      "name": "python"
    }
  },
  "cells": [
    {
      "cell_type": "markdown",
      "source": [
        "Author: **Oguz Alp Eren**\n",
        "\n",
        "Instructor: **Michael D. Parrott**\n",
        "\n",
        "**Projects in Advanced Machine Learning** 2023, Columbia University\n",
        "\n",
        "You can find this report at this GitHub repository https://github.com/OguzAlpEren/Oguz-Alp-Eren-Advanced-ML-Projects"
      ],
      "metadata": {
        "id": "N-QqAfNOZuhG"
      }
    },
    {
      "cell_type": "markdown",
      "source": [
        "# Write up a report on U.N. World Happiness Data"
      ],
      "metadata": {
        "id": "qSnM-zIXZLVp"
      }
    },
    {
      "cell_type": "markdown",
      "source": [
        "## Part 1: Loading the Data and Preprocessing"
      ],
      "metadata": {
        "id": "FkMfqGgB5hTR"
      }
    },
    {
      "cell_type": "markdown",
      "source": [
        "### Loading the Data"
      ],
      "metadata": {
        "id": "kYuvdKZjZPYz"
      }
    },
    {
      "cell_type": "code",
      "execution_count": null,
      "metadata": {
        "id": "jgihnujXTKOR"
      },
      "outputs": [],
      "source": [
        "#install aimodelshare library\n",
        "! pip install aimodelshare --upgrade"
      ]
    },
    {
      "cell_type": "code",
      "source": [
        "# Here are several classic ML architectures\n",
        "from sklearn.neighbors import KNeighborsClassifier\n",
        "from sklearn.svm import SVC\n",
        "from sklearn.ensemble import RandomForestClassifier\n",
        "from sklearn.ensemble import BaggingClassifier\n",
        "from sklearn.ensemble import GradientBoostingClassifier\n",
        "import keras\n",
        "from keras.models import Sequential\n",
        "from keras.layers import Dense, Activation\n"
      ],
      "metadata": {
        "id": "4bvYyswEV7oE"
      },
      "execution_count": null,
      "outputs": []
    },
    {
      "cell_type": "code",
      "source": [
        "#Get competition data from course folder and unzip\n",
        "# importing the zipfile module\n",
        "from zipfile import ZipFile\n",
        "  \n",
        "# loading the temp.zip and creating a zip object\n",
        "with ZipFile(\"world_happiness_competition_data.zip\", 'r') as zObject:\n",
        "  \n",
        "    # Extracting all the members of the zip \n",
        "    # into a specific location.\n",
        "    zObject.extractall()"
      ],
      "metadata": {
        "id": "yMDxDQJATdKI"
      },
      "execution_count": null,
      "outputs": []
    },
    {
      "cell_type": "code",
      "source": [
        "# Load data\n",
        "import pandas as pd\n",
        "X_train = pd.read_csv('world_happiness_competition_data/X_train.csv')\n",
        "X_test = pd.read_csv('world_happiness_competition_data/X_test.csv')\n",
        "y_train = pd.read_csv('world_happiness_competition_data/y_train.csv')\n",
        "y_train_labels = y_train.idxmax(axis=1)\n",
        "\n",
        "X_train.head()"
      ],
      "metadata": {
        "colab": {
          "base_uri": "https://localhost:8080/",
          "height": 435
        },
        "id": "ksa4mE39Thn-",
        "outputId": "4b9463d3-16bc-4c47-87fc-3e6a641910dc"
      },
      "execution_count": null,
      "outputs": [
        {
          "output_type": "execute_result",
          "data": {
            "text/plain": [
              "  Country or region  GDP per capita  Social support  Healthy life expectancy  \\\n",
              "0              Peru           0.960           1.274                    0.854   \n",
              "1         Nicaragua           0.694           1.325                    0.835   \n",
              "2            Greece           1.181           1.156                    0.999   \n",
              "3             Qatar           1.684           1.313                    0.871   \n",
              "4        Uzbekistan           0.745           1.529                    0.756   \n",
              "\n",
              "   Freedom to make life choices  Generosity  Perceptions of corruption  \\\n",
              "0                         0.455       0.083                      0.027   \n",
              "1                         0.435       0.200                      0.127   \n",
              "2                         0.067       0.000                      0.034   \n",
              "3                         0.555       0.220                      0.167   \n",
              "4                         0.631       0.322                      0.240   \n",
              "\n",
              "         name    region                       sub-region  Terrorist_attacks  \n",
              "0        Peru  Americas  Latin America and the Caribbean          18.000000  \n",
              "1   Nicaragua  Americas  Latin America and the Caribbean         125.611111  \n",
              "2      Greece    Europe                  Southern Europe         112.000000  \n",
              "3       Qatar      Asia                     Western Asia          57.333333  \n",
              "4  Uzbekistan      Asia                     Central Asia         125.611111  "
            ],
            "text/html": [
              "\n",
              "  <div id=\"df-44e326b7-2cfd-4ebd-9131-daf413c8c938\">\n",
              "    <div class=\"colab-df-container\">\n",
              "      <div>\n",
              "<style scoped>\n",
              "    .dataframe tbody tr th:only-of-type {\n",
              "        vertical-align: middle;\n",
              "    }\n",
              "\n",
              "    .dataframe tbody tr th {\n",
              "        vertical-align: top;\n",
              "    }\n",
              "\n",
              "    .dataframe thead th {\n",
              "        text-align: right;\n",
              "    }\n",
              "</style>\n",
              "<table border=\"1\" class=\"dataframe\">\n",
              "  <thead>\n",
              "    <tr style=\"text-align: right;\">\n",
              "      <th></th>\n",
              "      <th>Country or region</th>\n",
              "      <th>GDP per capita</th>\n",
              "      <th>Social support</th>\n",
              "      <th>Healthy life expectancy</th>\n",
              "      <th>Freedom to make life choices</th>\n",
              "      <th>Generosity</th>\n",
              "      <th>Perceptions of corruption</th>\n",
              "      <th>name</th>\n",
              "      <th>region</th>\n",
              "      <th>sub-region</th>\n",
              "      <th>Terrorist_attacks</th>\n",
              "    </tr>\n",
              "  </thead>\n",
              "  <tbody>\n",
              "    <tr>\n",
              "      <th>0</th>\n",
              "      <td>Peru</td>\n",
              "      <td>0.960</td>\n",
              "      <td>1.274</td>\n",
              "      <td>0.854</td>\n",
              "      <td>0.455</td>\n",
              "      <td>0.083</td>\n",
              "      <td>0.027</td>\n",
              "      <td>Peru</td>\n",
              "      <td>Americas</td>\n",
              "      <td>Latin America and the Caribbean</td>\n",
              "      <td>18.000000</td>\n",
              "    </tr>\n",
              "    <tr>\n",
              "      <th>1</th>\n",
              "      <td>Nicaragua</td>\n",
              "      <td>0.694</td>\n",
              "      <td>1.325</td>\n",
              "      <td>0.835</td>\n",
              "      <td>0.435</td>\n",
              "      <td>0.200</td>\n",
              "      <td>0.127</td>\n",
              "      <td>Nicaragua</td>\n",
              "      <td>Americas</td>\n",
              "      <td>Latin America and the Caribbean</td>\n",
              "      <td>125.611111</td>\n",
              "    </tr>\n",
              "    <tr>\n",
              "      <th>2</th>\n",
              "      <td>Greece</td>\n",
              "      <td>1.181</td>\n",
              "      <td>1.156</td>\n",
              "      <td>0.999</td>\n",
              "      <td>0.067</td>\n",
              "      <td>0.000</td>\n",
              "      <td>0.034</td>\n",
              "      <td>Greece</td>\n",
              "      <td>Europe</td>\n",
              "      <td>Southern Europe</td>\n",
              "      <td>112.000000</td>\n",
              "    </tr>\n",
              "    <tr>\n",
              "      <th>3</th>\n",
              "      <td>Qatar</td>\n",
              "      <td>1.684</td>\n",
              "      <td>1.313</td>\n",
              "      <td>0.871</td>\n",
              "      <td>0.555</td>\n",
              "      <td>0.220</td>\n",
              "      <td>0.167</td>\n",
              "      <td>Qatar</td>\n",
              "      <td>Asia</td>\n",
              "      <td>Western Asia</td>\n",
              "      <td>57.333333</td>\n",
              "    </tr>\n",
              "    <tr>\n",
              "      <th>4</th>\n",
              "      <td>Uzbekistan</td>\n",
              "      <td>0.745</td>\n",
              "      <td>1.529</td>\n",
              "      <td>0.756</td>\n",
              "      <td>0.631</td>\n",
              "      <td>0.322</td>\n",
              "      <td>0.240</td>\n",
              "      <td>Uzbekistan</td>\n",
              "      <td>Asia</td>\n",
              "      <td>Central Asia</td>\n",
              "      <td>125.611111</td>\n",
              "    </tr>\n",
              "  </tbody>\n",
              "</table>\n",
              "</div>\n",
              "      <button class=\"colab-df-convert\" onclick=\"convertToInteractive('df-44e326b7-2cfd-4ebd-9131-daf413c8c938')\"\n",
              "              title=\"Convert this dataframe to an interactive table.\"\n",
              "              style=\"display:none;\">\n",
              "        \n",
              "  <svg xmlns=\"http://www.w3.org/2000/svg\" height=\"24px\"viewBox=\"0 0 24 24\"\n",
              "       width=\"24px\">\n",
              "    <path d=\"M0 0h24v24H0V0z\" fill=\"none\"/>\n",
              "    <path d=\"M18.56 5.44l.94 2.06.94-2.06 2.06-.94-2.06-.94-.94-2.06-.94 2.06-2.06.94zm-11 1L8.5 8.5l.94-2.06 2.06-.94-2.06-.94L8.5 2.5l-.94 2.06-2.06.94zm10 10l.94 2.06.94-2.06 2.06-.94-2.06-.94-.94-2.06-.94 2.06-2.06.94z\"/><path d=\"M17.41 7.96l-1.37-1.37c-.4-.4-.92-.59-1.43-.59-.52 0-1.04.2-1.43.59L10.3 9.45l-7.72 7.72c-.78.78-.78 2.05 0 2.83L4 21.41c.39.39.9.59 1.41.59.51 0 1.02-.2 1.41-.59l7.78-7.78 2.81-2.81c.8-.78.8-2.07 0-2.86zM5.41 20L4 18.59l7.72-7.72 1.47 1.35L5.41 20z\"/>\n",
              "  </svg>\n",
              "      </button>\n",
              "      \n",
              "  <style>\n",
              "    .colab-df-container {\n",
              "      display:flex;\n",
              "      flex-wrap:wrap;\n",
              "      gap: 12px;\n",
              "    }\n",
              "\n",
              "    .colab-df-convert {\n",
              "      background-color: #E8F0FE;\n",
              "      border: none;\n",
              "      border-radius: 50%;\n",
              "      cursor: pointer;\n",
              "      display: none;\n",
              "      fill: #1967D2;\n",
              "      height: 32px;\n",
              "      padding: 0 0 0 0;\n",
              "      width: 32px;\n",
              "    }\n",
              "\n",
              "    .colab-df-convert:hover {\n",
              "      background-color: #E2EBFA;\n",
              "      box-shadow: 0px 1px 2px rgba(60, 64, 67, 0.3), 0px 1px 3px 1px rgba(60, 64, 67, 0.15);\n",
              "      fill: #174EA6;\n",
              "    }\n",
              "\n",
              "    [theme=dark] .colab-df-convert {\n",
              "      background-color: #3B4455;\n",
              "      fill: #D2E3FC;\n",
              "    }\n",
              "\n",
              "    [theme=dark] .colab-df-convert:hover {\n",
              "      background-color: #434B5C;\n",
              "      box-shadow: 0px 1px 3px 1px rgba(0, 0, 0, 0.15);\n",
              "      filter: drop-shadow(0px 1px 2px rgba(0, 0, 0, 0.3));\n",
              "      fill: #FFFFFF;\n",
              "    }\n",
              "  </style>\n",
              "\n",
              "      <script>\n",
              "        const buttonEl =\n",
              "          document.querySelector('#df-44e326b7-2cfd-4ebd-9131-daf413c8c938 button.colab-df-convert');\n",
              "        buttonEl.style.display =\n",
              "          google.colab.kernel.accessAllowed ? 'block' : 'none';\n",
              "\n",
              "        async function convertToInteractive(key) {\n",
              "          const element = document.querySelector('#df-44e326b7-2cfd-4ebd-9131-daf413c8c938');\n",
              "          const dataTable =\n",
              "            await google.colab.kernel.invokeFunction('convertToInteractive',\n",
              "                                                     [key], {});\n",
              "          if (!dataTable) return;\n",
              "\n",
              "          const docLinkHtml = 'Like what you see? Visit the ' +\n",
              "            '<a target=\"_blank\" href=https://colab.research.google.com/notebooks/data_table.ipynb>data table notebook</a>'\n",
              "            + ' to learn more about interactive tables.';\n",
              "          element.innerHTML = '';\n",
              "          dataTable['output_type'] = 'display_data';\n",
              "          await google.colab.output.renderOutput(dataTable, element);\n",
              "          const docLink = document.createElement('div');\n",
              "          docLink.innerHTML = docLinkHtml;\n",
              "          element.appendChild(docLink);\n",
              "        }\n",
              "      </script>\n",
              "    </div>\n",
              "  </div>\n",
              "  "
            ]
          },
          "metadata": {},
          "execution_count": 4
        }
      ]
    },
    {
      "cell_type": "code",
      "source": [
        "y_train.head()"
      ],
      "metadata": {
        "colab": {
          "base_uri": "https://localhost:8080/",
          "height": 204
        },
        "id": "Sm20kiF6hjVk",
        "outputId": "bf9b2a2b-5163-44d6-dbfc-c4e3ddd1e27b"
      },
      "execution_count": null,
      "outputs": [
        {
          "output_type": "execute_result",
          "data": {
            "text/plain": [
              "   Average  High  Low  Very High  Very Low\n",
              "0        1     0    0          0         0\n",
              "1        0     1    0          0         0\n",
              "2        1     0    0          0         0\n",
              "3        0     0    0          1         0\n",
              "4        0     1    0          0         0"
            ],
            "text/html": [
              "\n",
              "  <div id=\"df-a3577ef8-5294-4579-a4e1-99a66870185e\">\n",
              "    <div class=\"colab-df-container\">\n",
              "      <div>\n",
              "<style scoped>\n",
              "    .dataframe tbody tr th:only-of-type {\n",
              "        vertical-align: middle;\n",
              "    }\n",
              "\n",
              "    .dataframe tbody tr th {\n",
              "        vertical-align: top;\n",
              "    }\n",
              "\n",
              "    .dataframe thead th {\n",
              "        text-align: right;\n",
              "    }\n",
              "</style>\n",
              "<table border=\"1\" class=\"dataframe\">\n",
              "  <thead>\n",
              "    <tr style=\"text-align: right;\">\n",
              "      <th></th>\n",
              "      <th>Average</th>\n",
              "      <th>High</th>\n",
              "      <th>Low</th>\n",
              "      <th>Very High</th>\n",
              "      <th>Very Low</th>\n",
              "    </tr>\n",
              "  </thead>\n",
              "  <tbody>\n",
              "    <tr>\n",
              "      <th>0</th>\n",
              "      <td>1</td>\n",
              "      <td>0</td>\n",
              "      <td>0</td>\n",
              "      <td>0</td>\n",
              "      <td>0</td>\n",
              "    </tr>\n",
              "    <tr>\n",
              "      <th>1</th>\n",
              "      <td>0</td>\n",
              "      <td>1</td>\n",
              "      <td>0</td>\n",
              "      <td>0</td>\n",
              "      <td>0</td>\n",
              "    </tr>\n",
              "    <tr>\n",
              "      <th>2</th>\n",
              "      <td>1</td>\n",
              "      <td>0</td>\n",
              "      <td>0</td>\n",
              "      <td>0</td>\n",
              "      <td>0</td>\n",
              "    </tr>\n",
              "    <tr>\n",
              "      <th>3</th>\n",
              "      <td>0</td>\n",
              "      <td>0</td>\n",
              "      <td>0</td>\n",
              "      <td>1</td>\n",
              "      <td>0</td>\n",
              "    </tr>\n",
              "    <tr>\n",
              "      <th>4</th>\n",
              "      <td>0</td>\n",
              "      <td>1</td>\n",
              "      <td>0</td>\n",
              "      <td>0</td>\n",
              "      <td>0</td>\n",
              "    </tr>\n",
              "  </tbody>\n",
              "</table>\n",
              "</div>\n",
              "      <button class=\"colab-df-convert\" onclick=\"convertToInteractive('df-a3577ef8-5294-4579-a4e1-99a66870185e')\"\n",
              "              title=\"Convert this dataframe to an interactive table.\"\n",
              "              style=\"display:none;\">\n",
              "        \n",
              "  <svg xmlns=\"http://www.w3.org/2000/svg\" height=\"24px\"viewBox=\"0 0 24 24\"\n",
              "       width=\"24px\">\n",
              "    <path d=\"M0 0h24v24H0V0z\" fill=\"none\"/>\n",
              "    <path d=\"M18.56 5.44l.94 2.06.94-2.06 2.06-.94-2.06-.94-.94-2.06-.94 2.06-2.06.94zm-11 1L8.5 8.5l.94-2.06 2.06-.94-2.06-.94L8.5 2.5l-.94 2.06-2.06.94zm10 10l.94 2.06.94-2.06 2.06-.94-2.06-.94-.94-2.06-.94 2.06-2.06.94z\"/><path d=\"M17.41 7.96l-1.37-1.37c-.4-.4-.92-.59-1.43-.59-.52 0-1.04.2-1.43.59L10.3 9.45l-7.72 7.72c-.78.78-.78 2.05 0 2.83L4 21.41c.39.39.9.59 1.41.59.51 0 1.02-.2 1.41-.59l7.78-7.78 2.81-2.81c.8-.78.8-2.07 0-2.86zM5.41 20L4 18.59l7.72-7.72 1.47 1.35L5.41 20z\"/>\n",
              "  </svg>\n",
              "      </button>\n",
              "      \n",
              "  <style>\n",
              "    .colab-df-container {\n",
              "      display:flex;\n",
              "      flex-wrap:wrap;\n",
              "      gap: 12px;\n",
              "    }\n",
              "\n",
              "    .colab-df-convert {\n",
              "      background-color: #E8F0FE;\n",
              "      border: none;\n",
              "      border-radius: 50%;\n",
              "      cursor: pointer;\n",
              "      display: none;\n",
              "      fill: #1967D2;\n",
              "      height: 32px;\n",
              "      padding: 0 0 0 0;\n",
              "      width: 32px;\n",
              "    }\n",
              "\n",
              "    .colab-df-convert:hover {\n",
              "      background-color: #E2EBFA;\n",
              "      box-shadow: 0px 1px 2px rgba(60, 64, 67, 0.3), 0px 1px 3px 1px rgba(60, 64, 67, 0.15);\n",
              "      fill: #174EA6;\n",
              "    }\n",
              "\n",
              "    [theme=dark] .colab-df-convert {\n",
              "      background-color: #3B4455;\n",
              "      fill: #D2E3FC;\n",
              "    }\n",
              "\n",
              "    [theme=dark] .colab-df-convert:hover {\n",
              "      background-color: #434B5C;\n",
              "      box-shadow: 0px 1px 3px 1px rgba(0, 0, 0, 0.15);\n",
              "      filter: drop-shadow(0px 1px 2px rgba(0, 0, 0, 0.3));\n",
              "      fill: #FFFFFF;\n",
              "    }\n",
              "  </style>\n",
              "\n",
              "      <script>\n",
              "        const buttonEl =\n",
              "          document.querySelector('#df-a3577ef8-5294-4579-a4e1-99a66870185e button.colab-df-convert');\n",
              "        buttonEl.style.display =\n",
              "          google.colab.kernel.accessAllowed ? 'block' : 'none';\n",
              "\n",
              "        async function convertToInteractive(key) {\n",
              "          const element = document.querySelector('#df-a3577ef8-5294-4579-a4e1-99a66870185e');\n",
              "          const dataTable =\n",
              "            await google.colab.kernel.invokeFunction('convertToInteractive',\n",
              "                                                     [key], {});\n",
              "          if (!dataTable) return;\n",
              "\n",
              "          const docLinkHtml = 'Like what you see? Visit the ' +\n",
              "            '<a target=\"_blank\" href=https://colab.research.google.com/notebooks/data_table.ipynb>data table notebook</a>'\n",
              "            + ' to learn more about interactive tables.';\n",
              "          element.innerHTML = '';\n",
              "          dataTable['output_type'] = 'display_data';\n",
              "          await google.colab.output.renderOutput(dataTable, element);\n",
              "          const docLink = document.createElement('div');\n",
              "          docLink.innerHTML = docLinkHtml;\n",
              "          element.appendChild(docLink);\n",
              "        }\n",
              "      </script>\n",
              "    </div>\n",
              "  </div>\n",
              "  "
            ]
          },
          "metadata": {},
          "execution_count": 5
        }
      ]
    },
    {
      "cell_type": "code",
      "source": [
        "import numpy as np\n",
        "np.random.seed(42)"
      ],
      "metadata": {
        "id": "_5CzWzyL9XtX"
      },
      "execution_count": null,
      "outputs": []
    },
    {
      "cell_type": "markdown",
      "source": [
        "### Prepocessing"
      ],
      "metadata": {
        "id": "0mXpvsLtZZKc"
      }
    },
    {
      "cell_type": "code",
      "source": [
        "from sklearn.preprocessing import StandardScaler, OneHotEncoder\n",
        "from sklearn.compose import ColumnTransformer, make_column_transformer\n",
        "from sklearn.pipeline import Pipeline\n",
        "from sklearn.impute import SimpleImputer\n",
        "from sklearn.preprocessing import StandardScaler, OneHotEncoder\n",
        "\n",
        "# We create the preprocessing pipelines for both numeric and categorical data.\n",
        "\n",
        "numeric_features = X_train.drop(['Country or region', 'name', 'region', 'sub-region'], axis=1)\n",
        "numeric_features=numeric_features.columns.tolist()\n",
        "\n",
        "numeric_transformer = Pipeline(steps=[\n",
        "    ('imputer', SimpleImputer(strategy='median')),\n",
        "    ('scaler', StandardScaler())])\n",
        "\n",
        "categorical_features = ['region', 'sub-region']\n",
        "\n",
        "#Replacing missing values with Modal value and then one hot encoding.\n",
        "categorical_transformer = Pipeline(steps=[\n",
        "    ('imputer', SimpleImputer(strategy='most_frequent')),\n",
        "    ('onehot', OneHotEncoder(handle_unknown='ignore'))])\n",
        "\n",
        "# final preprocessor object set up with ColumnTransformer\n",
        "preprocessor = ColumnTransformer(\n",
        "    transformers=[\n",
        "        ('num', numeric_transformer, numeric_features),\n",
        "        ('cat', categorical_transformer, categorical_features)])\n",
        "\n",
        "#Fit your preprocessor object\n",
        "preprocess=preprocessor.fit(X_train) "
      ],
      "metadata": {
        "id": "4JWAHIPfTkhS"
      },
      "execution_count": null,
      "outputs": []
    },
    {
      "cell_type": "code",
      "source": [
        "numeric_features"
      ],
      "metadata": {
        "colab": {
          "base_uri": "https://localhost:8080/"
        },
        "id": "3io9-hADAK1_",
        "outputId": "6bceb9e0-60c5-49f0-bdd5-65db4f720f5d"
      },
      "execution_count": null,
      "outputs": [
        {
          "output_type": "execute_result",
          "data": {
            "text/plain": [
              "['GDP per capita',\n",
              " 'Social support',\n",
              " 'Healthy life expectancy',\n",
              " 'Freedom to make life choices',\n",
              " 'Generosity',\n",
              " 'Perceptions of corruption',\n",
              " 'Terrorist_attacks']"
            ]
          },
          "metadata": {},
          "execution_count": 8
        }
      ]
    },
    {
      "cell_type": "code",
      "source": [
        "categorical_features"
      ],
      "metadata": {
        "colab": {
          "base_uri": "https://localhost:8080/"
        },
        "id": "dSxcedPNDUDz",
        "outputId": "211a240e-4aac-4555-ec32-aae41f1a2681"
      },
      "execution_count": null,
      "outputs": [
        {
          "output_type": "execute_result",
          "data": {
            "text/plain": [
              "['region', 'sub-region']"
            ]
          },
          "metadata": {},
          "execution_count": 9
        }
      ]
    },
    {
      "cell_type": "code",
      "source": [
        "# Write function to transform data with preprocessor\n",
        "\n",
        "def preprocessor(data):\n",
        "    data.drop(['Country or region', 'name'], axis=1)\n",
        "    preprocessed_data=preprocess.transform(data)\n",
        "    return preprocessed_data"
      ],
      "metadata": {
        "id": "Vjm-7vDETz2H"
      },
      "execution_count": null,
      "outputs": []
    },
    {
      "cell_type": "code",
      "source": [
        "# Check shape of X data after preprocessing it using our new function\n",
        "preprocessor(X_train).shape"
      ],
      "metadata": {
        "colab": {
          "base_uri": "https://localhost:8080/"
        },
        "id": "2bY-rURDUI-U",
        "outputId": "16923d48-f40b-41ae-e6db-cae440a946b6"
      },
      "execution_count": null,
      "outputs": [
        {
          "output_type": "execute_result",
          "data": {
            "text/plain": [
              "(88, 26)"
            ]
          },
          "metadata": {},
          "execution_count": 11
        }
      ]
    },
    {
      "cell_type": "markdown",
      "source": [
        "## Part 2: Explore Bivariate Results and Examine the Important Features"
      ],
      "metadata": {
        "id": "rYj0Um4B5zhy"
      }
    },
    {
      "cell_type": "markdown",
      "source": [
        "### Explore Bivariate Results"
      ],
      "metadata": {
        "id": "L8FWyA34gRaa"
      }
    },
    {
      "cell_type": "code",
      "source": [
        "from matplotlib import pyplot as plt"
      ],
      "metadata": {
        "id": "qTlTQppWZd32"
      },
      "execution_count": null,
      "outputs": []
    },
    {
      "cell_type": "markdown",
      "source": [
        "Looking at the relationships between the predictor variables and the target variable, according to the graphs below, we can see that:\n",
        "\n",
        "- Happiness and GDP per capita are positively correlated. The majority of happy people have a GDP per capita greater than 1 point and almost all of them are above 0.75.\n",
        "- Happiness and Healthy life expectancy are positively correlated. The majority of happy people have a Healthy life expectancy greater than 0.8 points and almost all of them are above 0.7.\n",
        "- Happiness and Social support are positively correlated. The majority of happy people have a Social support greater than 1.3 points and almost all of them are above 1.2.\n",
        "- Happiness and Freedom to make life choices are positively correlated. The majority of happy people have a score greater than 0.4 for Freedom to make life choices.\n",
        "\n",
        "The scores for unhappy people (and people who think that they are average on the happiness scale) do vary a lot for all of the above. However, we see that most happy people have score above average on GDP per capita, Healthy life expectancy, Social support, and Freedom to make life choices.\n",
        "\n"
      ],
      "metadata": {
        "id": "G24TCURPqoY0"
      }
    },
    {
      "cell_type": "code",
      "source": [
        "plt.scatter(X_train['GDP per capita'], y_train['Very High'])\n",
        "plt.title(\"Happiness based on GDP per capita\")\n",
        "plt.xlabel(\"GDP per capita\")\n",
        "plt.ylabel(\"Happiness\")\n",
        "\n",
        "plt.scatter(X_train['GDP per capita'], y_train['High'])\n",
        "plt.title(\"Happiness based on GDP per capita\")\n",
        "plt.xlabel(\"GDP per capita\")\n",
        "plt.ylabel(\"Happiness\")"
      ],
      "metadata": {
        "id": "x2VQv6lwaj2t",
        "colab": {
          "base_uri": "https://localhost:8080/",
          "height": 312
        },
        "outputId": "7bbc3552-22fb-4003-ad04-7b0005ab08bb"
      },
      "execution_count": null,
      "outputs": [
        {
          "output_type": "execute_result",
          "data": {
            "text/plain": [
              "Text(0, 0.5, 'Happiness')"
            ]
          },
          "metadata": {},
          "execution_count": 14
        },
        {
          "output_type": "display_data",
          "data": {
            "text/plain": [
              "<Figure size 432x288 with 1 Axes>"
            ],
            "image/png": "[encoded data removed]"
          },
          "metadata": {
            "needs_background": "light"
          }
        }
      ]
    },
    {
      "cell_type": "code",
      "source": [
        "plt.scatter(X_train['Healthy life expectancy'], y_train['Very High'])\n",
        "plt.title(\"Happiness based on Healthy life expectancy\")\n",
        "plt.xlabel(\"Healthy life expectancy\")\n",
        "plt.ylabel(\"Happiness\")\n",
        "\n",
        "plt.scatter(X_train['Healthy life expectancy'], y_train['High'])\n",
        "plt.title(\"Happiness based on Healthy life expectancy\")\n",
        "plt.xlabel(\"Healthy life expectancy\")\n",
        "plt.ylabel(\"Happiness\")"
      ],
      "metadata": {
        "id": "lW-IP_ENdtgS",
        "colab": {
          "base_uri": "https://localhost:8080/",
          "height": 312
        },
        "outputId": "e0853ee7-0fec-4ffd-a17a-5a98739e3f8e"
      },
      "execution_count": null,
      "outputs": [
        {
          "output_type": "execute_result",
          "data": {
            "text/plain": [
              "Text(0, 0.5, 'Happiness')"
            ]
          },
          "metadata": {},
          "execution_count": 15
        },
        {
          "output_type": "display_data",
          "data": {
            "text/plain": [
              "<Figure size 432x288 with 1 Axes>"
            ],
            "image/png": "[encoded data removed]"
          },
          "metadata": {
            "needs_background": "light"
          }
        }
      ]
    },
    {
      "cell_type": "code",
      "source": [
        "plt.scatter(X_train['Social support'], y_train['Very High'])\n",
        "plt.title(\"Happiness based on Social support\")\n",
        "plt.xlabel(\"Social support\")\n",
        "plt.ylabel(\"Happiness\")\n",
        "\n",
        "plt.scatter(X_train['Social support'], y_train['High'])\n",
        "plt.title(\"Happiness based on Social support\")\n",
        "plt.xlabel(\"Social support\")\n",
        "plt.ylabel(\"Happiness\")"
      ],
      "metadata": {
        "id": "-8n0KNJHd23V",
        "colab": {
          "base_uri": "https://localhost:8080/",
          "height": 312
        },
        "outputId": "66ab6b4f-7762-44a1-a428-3853887d5834"
      },
      "execution_count": null,
      "outputs": [
        {
          "output_type": "execute_result",
          "data": {
            "text/plain": [
              "Text(0, 0.5, 'Happiness')"
            ]
          },
          "metadata": {},
          "execution_count": 16
        },
        {
          "output_type": "display_data",
          "data": {
            "text/plain": [
              "<Figure size 432x288 with 1 Axes>"
            ],
            "image/png": "[encoded data removed]"
          },
          "metadata": {
            "needs_background": "light"
          }
        }
      ]
    },
    {
      "cell_type": "code",
      "source": [
        "plt.scatter(X_train['Freedom to make life choices'], y_train['Very High'])\n",
        "plt.title(\"Happiness based on Freedom to make life choices\")\n",
        "plt.xlabel(\"Freedom to make life choices\")\n",
        "plt.ylabel(\"Happiness\")\n",
        "\n",
        "plt.scatter(X_train['Freedom to make life choices'], y_train['High'])\n",
        "plt.title(\"Happiness based on Freedom to make life choices\")\n",
        "plt.xlabel(\"Freedom to make life choices\")\n",
        "plt.ylabel(\"Happiness\")"
      ],
      "metadata": {
        "id": "tNfMeofqoyku",
        "colab": {
          "base_uri": "https://localhost:8080/",
          "height": 312
        },
        "outputId": "bcb721da-2f47-494b-e80e-17ebb5a9463d"
      },
      "execution_count": null,
      "outputs": [
        {
          "output_type": "execute_result",
          "data": {
            "text/plain": [
              "Text(0, 0.5, 'Happiness')"
            ]
          },
          "metadata": {},
          "execution_count": 17
        },
        {
          "output_type": "display_data",
          "data": {
            "text/plain": [
              "<Figure size 432x288 with 1 Axes>"
            ],
            "image/png": "[encoded data removed]"
          },
          "metadata": {
            "needs_background": "light"
          }
        }
      ]
    },
    {
      "cell_type": "markdown",
      "source": [
        "Looking at the relationships between the predictor variables, according to the graphs below, we can see that:\n",
        "\n",
        "- Healthy life expectancy and GDP per capita are positively correlated. Relationship is linear.\n",
        "- Healthy life expectancy and social support are positively correlated. Relationship is linear.\n",
        "- Although the correlation between healthy life expectancy and freedom to make life choices is small, it exists. The  relationship is not strong and the variance is very high, but the relationship is linear."
      ],
      "metadata": {
        "id": "HzGPvwLHYsD2"
      }
    },
    {
      "cell_type": "code",
      "source": [
        "plt.scatter(X_train['Healthy life expectancy'], X_train['GDP per capita'])\n",
        "plt.title(\"Healthy life expectancy based on GDP per capita\")\n",
        "plt.xlabel(\"Healthy life expectancy\")\n",
        "plt.ylabel(\"GDP per capita\")"
      ],
      "metadata": {
        "id": "X2mDJwOZ7i6P",
        "colab": {
          "base_uri": "https://localhost:8080/",
          "height": 312
        },
        "outputId": "aad5873f-326a-4626-dd33-34053e3eff0e"
      },
      "execution_count": null,
      "outputs": [
        {
          "output_type": "execute_result",
          "data": {
            "text/plain": [
              "Text(0, 0.5, 'GDP per capita')"
            ]
          },
          "metadata": {},
          "execution_count": 18
        },
        {
          "output_type": "display_data",
          "data": {
            "text/plain": [
              "<Figure size 432x288 with 1 Axes>"
            ],
            "image/png": "[encoded data removed]"
          },
          "metadata": {
            "needs_background": "light"
          }
        }
      ]
    },
    {
      "cell_type": "code",
      "source": [
        "plt.scatter(X_train['Healthy life expectancy'], X_train['Social support'])\n",
        "plt.title(\"Healthy life expectancy based on Social support\")\n",
        "plt.xlabel(\"Healthy life expectancy\")\n",
        "plt.ylabel(\"Social support\")"
      ],
      "metadata": {
        "id": "mQjuOeD39Mu9",
        "colab": {
          "base_uri": "https://localhost:8080/",
          "height": 312
        },
        "outputId": "a9e73209-b6b6-49e5-fe3d-0300bc746843"
      },
      "execution_count": null,
      "outputs": [
        {
          "output_type": "execute_result",
          "data": {
            "text/plain": [
              "Text(0, 0.5, 'Social support')"
            ]
          },
          "metadata": {},
          "execution_count": 19
        },
        {
          "output_type": "display_data",
          "data": {
            "text/plain": [
              "<Figure size 432x288 with 1 Axes>"
            ],
            "image/png": "[encoded data removed]"
          },
          "metadata": {
            "needs_background": "light"
          }
        }
      ]
    },
    {
      "cell_type": "code",
      "source": [
        "plt.scatter(X_train['Healthy life expectancy'], X_train['Freedom to make life choices'])\n",
        "plt.title(\"Healthy life expectancy based on Freedom to make life choices\")\n",
        "plt.xlabel(\"Healthy life expectancy\")\n",
        "plt.ylabel(\"Social support\")"
      ],
      "metadata": {
        "id": "WFcXmklD9AfY",
        "colab": {
          "base_uri": "https://localhost:8080/",
          "height": 312
        },
        "outputId": "02ccdf12-4e96-44ee-c381-a2658a94e8ff"
      },
      "execution_count": null,
      "outputs": [
        {
          "output_type": "execute_result",
          "data": {
            "text/plain": [
              "Text(0, 0.5, 'Social support')"
            ]
          },
          "metadata": {},
          "execution_count": 20
        },
        {
          "output_type": "display_data",
          "data": {
            "text/plain": [
              "<Figure size 432x288 with 1 Axes>"
            ],
            "image/png": "[encoded data removed]"
          },
          "metadata": {
            "needs_background": "light"
          }
        }
      ]
    },
    {
      "cell_type": "markdown",
      "source": [
        "### Examine Features That Predict Happiness Categories Using a Model That Allows for Automatic Feature Selection"
      ],
      "metadata": {
        "id": "0HJWkeZmaeg0"
      }
    },
    {
      "cell_type": "markdown",
      "source": [
        "When we look at the feature importances for Random Forest Classifier, we can see that GDP per capita, healthy life expectancy, and social support are all important variables. GDP per capita, in particular, is a powerful predictor of happiness. Region, corruption perceptions, sub-region, and generosity are not strong predictors as they have a small relationship with the target variable."
      ],
      "metadata": {
        "id": "71qoVqVS9xJj"
      }
    },
    {
      "cell_type": "code",
      "source": [
        "from sklearn.inspection import permutation_importance\n",
        "\n",
        "rf = Pipeline([\n",
        "    ('preprocess', preprocess),\n",
        "    ('classifier', RandomForestClassifier(random_state=42))\n",
        "])\n",
        "\n",
        "rf.fit(X_train, y_train)\n",
        "\n",
        "result = permutation_importance(rf, X_train, y_train, n_repeats=10,\n",
        "                                random_state=42, n_jobs=2)\n",
        "\n",
        "sorted_importances_idx = result.importances_mean.argsort()\n",
        "importances = pd.DataFrame(\n",
        "    result.importances[sorted_importances_idx].T,\n",
        "    columns=X_train.columns[sorted_importances_idx],\n",
        ")\n",
        "ax = importances.plot.box(vert=False, whis=10)\n",
        "ax.set_title(\"Permutation Importances \")\n",
        "ax.axvline(x=0, color=\"k\", linestyle=\"--\")\n",
        "ax.set_xlabel(\"Decrease in accuracy score\")\n",
        "ax.figure.tight_layout()"
      ],
      "metadata": {
        "colab": {
          "base_uri": "https://localhost:8080/",
          "height": 297
        },
        "id": "pf8Jj_TLt6VR",
        "outputId": "fdb5ef30-a616-4da6-919f-ade1a8194a05"
      },
      "execution_count": null,
      "outputs": [
        {
          "output_type": "display_data",
          "data": {
            "text/plain": [
              "<Figure size 432x288 with 1 Axes>"
            ],
            "image/png": "[encoded data removed]"
          },
          "metadata": {
            "needs_background": "light"
          }
        }
      ]
    },
    {
      "cell_type": "markdown",
      "source": [
        "## Part 3: First Three models Before Speaking With Teammates"
      ],
      "metadata": {
        "id": "bESTJwdZ6Fh5"
      }
    },
    {
      "cell_type": "markdown",
      "source": [
        "### First Model: Random Forest"
      ],
      "metadata": {
        "id": "LNp__v8gZeeV"
      }
    },
    {
      "cell_type": "markdown",
      "source": [
        "Random Forest Classifier with n_estimators=250 and max_depth=4"
      ],
      "metadata": {
        "id": "LjyxDYBRyG9q"
      }
    },
    {
      "cell_type": "code",
      "source": [
        "from sklearn.ensemble import RandomForestClassifier\n",
        "\n",
        "model1 = RandomForestClassifier(n_estimators=250, max_depth=4, random_state=0)\n",
        "model1.fit(preprocessor(X_train), y_train_labels) # Fitting to the training set.\n",
        "model1.score(preprocessor(X_train), y_train_labels) # Fit score, 0-1 scale."
      ],
      "metadata": {
        "id": "A9y18ALZUMxS",
        "colab": {
          "base_uri": "https://localhost:8080/"
        },
        "outputId": "c9f47684-5cee-48c4-bab0-e9be4223d13d"
      },
      "execution_count": null,
      "outputs": [
        {
          "output_type": "execute_result",
          "data": {
            "text/plain": [
              "0.9204545454545454"
            ]
          },
          "metadata": {},
          "execution_count": 22
        }
      ]
    },
    {
      "cell_type": "code",
      "source": [
        "import aimodelshare as ai\n",
        "ai.export_preprocessor(preprocessor,\"\") "
      ],
      "metadata": {
        "id": "E54J7gOgUZRP",
        "colab": {
          "base_uri": "https://localhost:8080/"
        },
        "outputId": "3427c380-45b3-4ac7-c8ef-4f20be8a8879"
      },
      "execution_count": null,
      "outputs": [
        {
          "output_type": "stream",
          "name": "stdout",
          "text": [
            "Your preprocessor is now saved to 'preprocessor.zip'\n"
          ]
        }
      ]
    },
    {
      "cell_type": "code",
      "source": [
        "# Save sklearn model to local ONNX file\n",
        "from aimodelshare.aimsonnx import model_to_onnx\n",
        "\n",
        "# Check how many preprocessed input features are there?\n",
        "from skl2onnx.common.data_types import FloatTensorType\n",
        "\n",
        "feature_count=preprocessor(X_test).shape[1] #Get count of preprocessed features\n",
        "initial_type = [('float_input', FloatTensorType([None, feature_count]))]  #Insert correct number of preprocessed features\n",
        "\n",
        "onnx_model = model_to_onnx(model1, framework='sklearn',\n",
        "                          initial_types=initial_type,\n",
        "                          transfer_learning=False,\n",
        "                          deep_learning=False)\n",
        "\n",
        "with open(\"model1.onnx\", \"wb\") as f:\n",
        "    f.write(onnx_model.SerializeToString())"
      ],
      "metadata": {
        "id": "OBdi8RRmUiWs"
      },
      "execution_count": null,
      "outputs": []
    },
    {
      "cell_type": "code",
      "source": [
        "#Set credentials using modelshare.org username/password\n",
        "\n",
        "from aimodelshare.aws import set_credentials\n",
        "\n",
        "#This is the unique rest api that powers this World Happiness Classification Playground -- make sure to update the apiurl for new competition deployments\n",
        "apiurl=\"https://e2w6gh3id1.execute-api.us-east-2.amazonaws.com/prod/m\"\n",
        "\n",
        "set_credentials(apiurl=apiurl)"
      ],
      "metadata": {
        "id": "H_3WIUvTUqTt",
        "colab": {
          "base_uri": "https://localhost:8080/"
        },
        "outputId": "85774337-c715-4a7f-dc7b-44757325b3cf"
      },
      "execution_count": null,
      "outputs": [
        {
          "output_type": "stream",
          "name": "stdout",
          "text": [
            "AI Modelshare Username:··········\n",
            "AI Modelshare Password:··········\n",
            "AI Model Share login credentials set successfully.\n"
          ]
        }
      ]
    },
    {
      "cell_type": "code",
      "source": [
        "#Instantiate Competition\n",
        "import aimodelshare as ai\n",
        "mycompetition= ai.Competition(apiurl)"
      ],
      "metadata": {
        "id": "hgpku6vdUzOX"
      },
      "execution_count": null,
      "outputs": []
    },
    {
      "cell_type": "code",
      "source": [
        "#Submit Model 1:\n",
        "\n",
        "#-- Generate predicted values (Model 1)\n",
        "prediction_labels = model1.predict(preprocessor(X_test))\n",
        "# Submit Model 1 to Competition Leaderboard\n",
        "mycompetition.submit_model(model_filepath = \"model1.onnx\",\n",
        "                                 preprocessor_filepath=\"preprocessor.zip\",\n",
        "                                 prediction_submission=prediction_labels,\n",
        "                                 custom_metadata={\"team\":\"1\"})"
      ],
      "metadata": {
        "id": "3h7cWxBuU2OM",
        "colab": {
          "base_uri": "https://localhost:8080/"
        },
        "outputId": "e172374f-d592-4873-e4a4-96cbcfd6721c"
      },
      "execution_count": null,
      "outputs": [
        {
          "output_type": "stream",
          "name": "stdout",
          "text": [
            "Insert search tags to help users find your model (optional): emin\n",
            "Provide any useful notes about your model (optional): emin\n",
            "\n",
            "Your model has been submitted as model version 630\n",
            "\n",
            "To submit code used to create this model or to view current leaderboard navigate to Model Playground: \n",
            "\n",
            " https://www.modelshare.org/detail/model:3164\n"
          ]
        }
      ]
    },
    {
      "cell_type": "markdown",
      "source": [
        "### Second Model: GradientBoostingClassifier\n",
        "\n"
      ],
      "metadata": {
        "id": "M7yhymQMZoG2"
      }
    },
    {
      "cell_type": "markdown",
      "source": [
        "GradientBoostingClassifier with n_estimators=45, learning_rate=1.2, and max_depth=1"
      ],
      "metadata": {
        "id": "vLrhacNyzan3"
      }
    },
    {
      "cell_type": "code",
      "source": [
        "model2 = GradientBoostingClassifier(n_estimators=45, learning_rate=1.2,\n",
        "    max_depth=1, random_state=0).fit(preprocessor(X_train), y_train_labels)\n",
        "model2.score(preprocessor(X_train), y_train_labels)"
      ],
      "metadata": {
        "id": "TVix-BdZVdZW",
        "colab": {
          "base_uri": "https://localhost:8080/"
        },
        "outputId": "9641085f-ae35-4efa-e3fe-33af55d770c3"
      },
      "execution_count": null,
      "outputs": [
        {
          "output_type": "execute_result",
          "data": {
            "text/plain": [
              "0.9772727272727273"
            ]
          },
          "metadata": {},
          "execution_count": 29
        }
      ]
    },
    {
      "cell_type": "code",
      "source": [
        "# Save sklearn model to local ONNX file\n",
        "\n",
        "feature_count=preprocessor(X_test).shape[1] #Get count of preprocessed features\n",
        "initial_type = [('float_input', FloatTensorType([None, feature_count]))]  # Insert correct number of preprocessed features\n",
        "\n",
        "onnx_model = model_to_onnx(model2, framework='sklearn',\n",
        "                          initial_types=initial_type,\n",
        "                          transfer_learning=False,\n",
        "                          deep_learning=False)\n",
        "\n",
        "with open(\"model2.onnx\", \"wb\") as f:\n",
        "    f.write(onnx_model.SerializeToString())"
      ],
      "metadata": {
        "id": "lAi2iePbW5aH"
      },
      "execution_count": null,
      "outputs": []
    },
    {
      "cell_type": "code",
      "source": [
        "#-- Generate predicted values \n",
        "prediction_labels = model2.predict(preprocessor(X_test))"
      ],
      "metadata": {
        "id": "_f3JUo-4XDn6"
      },
      "execution_count": null,
      "outputs": []
    },
    {
      "cell_type": "code",
      "source": [
        "# Submit Model 2 to Competition Leaderboard\n",
        "mycompetition.submit_model(model_filepath = \"model2.onnx\",\n",
        "                                 preprocessor_filepath=\"preprocessor.zip\",\n",
        "                                 prediction_submission=prediction_labels,\n",
        "                                 custom_metadata={\"team\":\"1\"})"
      ],
      "metadata": {
        "id": "bDwwQQqRXLCz",
        "colab": {
          "base_uri": "https://localhost:8080/"
        },
        "outputId": "bf47b425-be01-4817-b896-a16ecad71ae8"
      },
      "execution_count": null,
      "outputs": [
        {
          "output_type": "stream",
          "name": "stdout",
          "text": [
            "Insert search tags to help users find your model (optional): emin\n",
            "Provide any useful notes about your model (optional): emin\n",
            "\n",
            "Your model has been submitted as model version 631\n",
            "\n",
            "To submit code used to create this model or to view current leaderboard navigate to Model Playground: \n",
            "\n",
            " https://www.modelshare.org/detail/model:3164\n"
          ]
        }
      ]
    },
    {
      "cell_type": "markdown",
      "source": [
        "### Third Model: Deep Learning (Sequential)"
      ],
      "metadata": {
        "id": "lODySVWBZzi1"
      }
    },
    {
      "cell_type": "markdown",
      "source": [
        "Deep Learning (sequential) with relu activation and hidden layers 64, 32, 16, 16"
      ],
      "metadata": {
        "id": "pI5Lkn1W0XIZ"
      }
    },
    {
      "cell_type": "code",
      "source": [
        "import keras\n",
        "from keras.models import Sequential\n",
        "from keras.layers import Dense, Activation\n",
        "\n",
        "feature_count=preprocessor(X_train).shape[1] #count features in input data\n",
        "\n",
        "model3 = Sequential()\n",
        "model3.add(Dense(64, input_dim=feature_count, activation='relu'))\n",
        "model3.add(Dense(32, activation='relu'))\n",
        "model3.add(Dense(16, activation='relu'))\n",
        "model3.add(Dense(16, activation='relu'))\n",
        "\n",
        "model3.add(Dense(5, activation='softmax'))\n",
        "\n",
        "np.random.seed(42)\n",
        "                                            \n",
        "# Compile model\n",
        "model3.compile(loss='categorical_crossentropy', optimizer='sgd', metrics=['accuracy'])\n",
        "\n",
        "# Fitting the NN to the Training set\n",
        "model3.fit(preprocessor(X_train), y_train, ## Note that keras models require a one-hot-encoded y_train object\n",
        "               batch_size = 20, \n",
        "               epochs = 300, validation_split=0.25)  "
      ],
      "metadata": {
        "id": "4Trnzb6zX_dF",
        "colab": {
          "base_uri": "https://localhost:8080/"
        },
        "outputId": "b585affd-ed16-454d-93c3-5d4a934aa41d"
      },
      "execution_count": null,
      "outputs": [
        {
          "output_type": "stream",
          "name": "stdout",
          "text": [
            "Epoch 1/300\n",
            "4/4 [==============================] - 1s 81ms/step - loss: 1.6374 - accuracy: 0.1970 - val_loss: 1.6261 - val_accuracy: 0.1818\n",
            "Epoch 2/300\n",
            "4/4 [==============================] - 0s 13ms/step - loss: 1.6270 - accuracy: 0.2273 - val_loss: 1.6185 - val_accuracy: 0.1818\n",
            "Epoch 3/300\n",
            "4/4 [==============================] - 0s 12ms/step - loss: 1.6160 - accuracy: 0.1970 - val_loss: 1.6090 - val_accuracy: 0.2273\n",
            "Epoch 4/300\n",
            "4/4 [==============================] - 0s 12ms/step - loss: 1.6048 - accuracy: 0.2273 - val_loss: 1.6036 - val_accuracy: 0.1818\n",
            "Epoch 5/300\n",
            "4/4 [==============================] - 0s 12ms/step - loss: 1.5948 - accuracy: 0.2576 - val_loss: 1.5961 - val_accuracy: 0.1818\n",
            "Epoch 6/300\n",
            "4/4 [==============================] - 0s 12ms/step - loss: 1.5840 - accuracy: 0.2727 - val_loss: 1.5898 - val_accuracy: 0.1818\n",
            "Epoch 7/300\n",
            "4/4 [==============================] - 0s 13ms/step - loss: 1.5760 - accuracy: 0.3182 - val_loss: 1.5825 - val_accuracy: 0.1818\n",
            "Epoch 8/300\n",
            "4/4 [==============================] - 0s 13ms/step - loss: 1.5662 - accuracy: 0.3182 - val_loss: 1.5764 - val_accuracy: 0.1818\n",
            "Epoch 9/300\n",
            "4/4 [==============================] - 0s 12ms/step - loss: 1.5580 - accuracy: 0.3182 - val_loss: 1.5703 - val_accuracy: 0.1818\n",
            "Epoch 10/300\n",
            "4/4 [==============================] - 0s 15ms/step - loss: 1.5514 - accuracy: 0.3030 - val_loss: 1.5653 - val_accuracy: 0.1818\n",
            "Epoch 11/300\n",
            "4/4 [==============================] - 0s 12ms/step - loss: 1.5424 - accuracy: 0.3030 - val_loss: 1.5600 - val_accuracy: 0.1818\n",
            "Epoch 12/300\n",
            "4/4 [==============================] - 0s 12ms/step - loss: 1.5343 - accuracy: 0.3182 - val_loss: 1.5558 - val_accuracy: 0.1818\n",
            "Epoch 13/300\n",
            "4/4 [==============================] - 0s 14ms/step - loss: 1.5277 - accuracy: 0.3485 - val_loss: 1.5515 - val_accuracy: 0.1818\n",
            "Epoch 14/300\n",
            "4/4 [==============================] - 0s 12ms/step - loss: 1.5215 - accuracy: 0.3636 - val_loss: 1.5455 - val_accuracy: 0.1818\n",
            "Epoch 15/300\n",
            "4/4 [==============================] - 0s 13ms/step - loss: 1.5142 - accuracy: 0.4394 - val_loss: 1.5408 - val_accuracy: 0.1818\n",
            "Epoch 16/300\n",
            "4/4 [==============================] - 0s 13ms/step - loss: 1.5078 - accuracy: 0.4394 - val_loss: 1.5364 - val_accuracy: 0.2273\n",
            "Epoch 17/300\n",
            "4/4 [==============================] - 0s 13ms/step - loss: 1.5015 - accuracy: 0.4697 - val_loss: 1.5316 - val_accuracy: 0.2727\n",
            "Epoch 18/300\n",
            "4/4 [==============================] - 0s 12ms/step - loss: 1.4960 - accuracy: 0.5000 - val_loss: 1.5279 - val_accuracy: 0.2727\n",
            "Epoch 19/300\n",
            "4/4 [==============================] - 0s 13ms/step - loss: 1.4898 - accuracy: 0.5152 - val_loss: 1.5235 - val_accuracy: 0.2727\n",
            "Epoch 20/300\n",
            "4/4 [==============================] - 0s 13ms/step - loss: 1.4833 - accuracy: 0.5455 - val_loss: 1.5188 - val_accuracy: 0.2727\n",
            "Epoch 21/300\n",
            "4/4 [==============================] - 0s 16ms/step - loss: 1.4770 - accuracy: 0.5606 - val_loss: 1.5144 - val_accuracy: 0.3182\n",
            "Epoch 22/300\n",
            "4/4 [==============================] - 0s 13ms/step - loss: 1.4701 - accuracy: 0.5758 - val_loss: 1.5106 - val_accuracy: 0.3182\n",
            "Epoch 23/300\n",
            "4/4 [==============================] - 0s 12ms/step - loss: 1.4642 - accuracy: 0.5606 - val_loss: 1.5054 - val_accuracy: 0.3182\n",
            "Epoch 24/300\n",
            "4/4 [==============================] - 0s 17ms/step - loss: 1.4571 - accuracy: 0.5758 - val_loss: 1.5010 - val_accuracy: 0.3182\n",
            "Epoch 25/300\n",
            "4/4 [==============================] - 0s 13ms/step - loss: 1.4512 - accuracy: 0.5758 - val_loss: 1.4963 - val_accuracy: 0.3182\n",
            "Epoch 26/300\n",
            "4/4 [==============================] - 0s 13ms/step - loss: 1.4446 - accuracy: 0.5758 - val_loss: 1.4902 - val_accuracy: 0.3636\n",
            "Epoch 27/300\n",
            "4/4 [==============================] - 0s 13ms/step - loss: 1.4369 - accuracy: 0.5909 - val_loss: 1.4849 - val_accuracy: 0.4091\n",
            "Epoch 28/300\n",
            "4/4 [==============================] - 0s 12ms/step - loss: 1.4298 - accuracy: 0.5909 - val_loss: 1.4809 - val_accuracy: 0.4091\n",
            "Epoch 29/300\n",
            "4/4 [==============================] - 0s 13ms/step - loss: 1.4237 - accuracy: 0.6061 - val_loss: 1.4763 - val_accuracy: 0.3636\n",
            "Epoch 30/300\n",
            "4/4 [==============================] - 0s 16ms/step - loss: 1.4178 - accuracy: 0.6212 - val_loss: 1.4697 - val_accuracy: 0.3182\n",
            "Epoch 31/300\n",
            "4/4 [==============================] - 0s 13ms/step - loss: 1.4113 - accuracy: 0.6061 - val_loss: 1.4645 - val_accuracy: 0.3636\n",
            "Epoch 32/300\n",
            "4/4 [==============================] - 0s 13ms/step - loss: 1.4030 - accuracy: 0.6061 - val_loss: 1.4585 - val_accuracy: 0.4091\n",
            "Epoch 33/300\n",
            "4/4 [==============================] - 0s 12ms/step - loss: 1.3950 - accuracy: 0.6061 - val_loss: 1.4523 - val_accuracy: 0.3636\n",
            "Epoch 34/300\n",
            "4/4 [==============================] - 0s 13ms/step - loss: 1.3865 - accuracy: 0.6212 - val_loss: 1.4475 - val_accuracy: 0.3636\n",
            "Epoch 35/300\n",
            "4/4 [==============================] - 0s 20ms/step - loss: 1.3782 - accuracy: 0.6364 - val_loss: 1.4413 - val_accuracy: 0.2727\n",
            "Epoch 36/300\n",
            "4/4 [==============================] - 0s 13ms/step - loss: 1.3693 - accuracy: 0.6364 - val_loss: 1.4344 - val_accuracy: 0.3636\n",
            "Epoch 37/300\n",
            "4/4 [==============================] - 0s 19ms/step - loss: 1.3606 - accuracy: 0.6212 - val_loss: 1.4278 - val_accuracy: 0.3636\n",
            "Epoch 38/300\n",
            "4/4 [==============================] - 0s 13ms/step - loss: 1.3512 - accuracy: 0.6364 - val_loss: 1.4203 - val_accuracy: 0.4091\n",
            "Epoch 39/300\n",
            "4/4 [==============================] - 0s 16ms/step - loss: 1.3411 - accuracy: 0.6212 - val_loss: 1.4141 - val_accuracy: 0.4091\n",
            "Epoch 40/300\n",
            "4/4 [==============================] - 0s 18ms/step - loss: 1.3327 - accuracy: 0.6212 - val_loss: 1.4078 - val_accuracy: 0.4545\n",
            "Epoch 41/300\n",
            "4/4 [==============================] - 0s 13ms/step - loss: 1.3245 - accuracy: 0.6515 - val_loss: 1.4009 - val_accuracy: 0.4545\n",
            "Epoch 42/300\n",
            "4/4 [==============================] - 0s 13ms/step - loss: 1.3154 - accuracy: 0.6515 - val_loss: 1.3930 - val_accuracy: 0.5000\n",
            "Epoch 43/300\n",
            "4/4 [==============================] - 0s 13ms/step - loss: 1.3056 - accuracy: 0.6364 - val_loss: 1.3879 - val_accuracy: 0.4545\n",
            "Epoch 44/300\n",
            "4/4 [==============================] - 0s 14ms/step - loss: 1.2951 - accuracy: 0.6515 - val_loss: 1.3784 - val_accuracy: 0.4545\n",
            "Epoch 45/300\n",
            "4/4 [==============================] - 0s 21ms/step - loss: 1.2840 - accuracy: 0.6515 - val_loss: 1.3704 - val_accuracy: 0.4091\n",
            "Epoch 46/300\n",
            "4/4 [==============================] - 0s 16ms/step - loss: 1.2732 - accuracy: 0.6667 - val_loss: 1.3632 - val_accuracy: 0.4545\n",
            "Epoch 47/300\n",
            "4/4 [==============================] - 0s 19ms/step - loss: 1.2635 - accuracy: 0.6667 - val_loss: 1.3571 - val_accuracy: 0.4091\n",
            "Epoch 48/300\n",
            "4/4 [==============================] - 0s 13ms/step - loss: 1.2536 - accuracy: 0.6667 - val_loss: 1.3505 - val_accuracy: 0.4545\n",
            "Epoch 49/300\n",
            "4/4 [==============================] - 0s 21ms/step - loss: 1.2433 - accuracy: 0.6667 - val_loss: 1.3421 - val_accuracy: 0.4545\n",
            "Epoch 50/300\n",
            "4/4 [==============================] - 0s 12ms/step - loss: 1.2330 - accuracy: 0.6667 - val_loss: 1.3363 - val_accuracy: 0.4545\n",
            "Epoch 51/300\n",
            "4/4 [==============================] - 0s 12ms/step - loss: 1.2220 - accuracy: 0.6818 - val_loss: 1.3279 - val_accuracy: 0.5000\n",
            "Epoch 52/300\n",
            "4/4 [==============================] - 0s 15ms/step - loss: 1.2121 - accuracy: 0.6970 - val_loss: 1.3208 - val_accuracy: 0.5000\n",
            "Epoch 53/300\n",
            "4/4 [==============================] - 0s 13ms/step - loss: 1.2017 - accuracy: 0.6970 - val_loss: 1.3126 - val_accuracy: 0.5000\n",
            "Epoch 54/300\n",
            "4/4 [==============================] - 0s 13ms/step - loss: 1.1925 - accuracy: 0.6818 - val_loss: 1.3052 - val_accuracy: 0.5000\n",
            "Epoch 55/300\n",
            "4/4 [==============================] - 0s 13ms/step - loss: 1.1815 - accuracy: 0.6818 - val_loss: 1.2974 - val_accuracy: 0.5000\n",
            "Epoch 56/300\n",
            "4/4 [==============================] - 0s 17ms/step - loss: 1.1712 - accuracy: 0.6818 - val_loss: 1.2930 - val_accuracy: 0.4545\n",
            "Epoch 57/300\n",
            "4/4 [==============================] - 0s 13ms/step - loss: 1.1620 - accuracy: 0.6970 - val_loss: 1.2840 - val_accuracy: 0.4545\n",
            "Epoch 58/300\n",
            "4/4 [==============================] - 0s 13ms/step - loss: 1.1514 - accuracy: 0.6818 - val_loss: 1.2780 - val_accuracy: 0.4545\n",
            "Epoch 59/300\n",
            "4/4 [==============================] - 0s 13ms/step - loss: 1.1426 - accuracy: 0.6818 - val_loss: 1.2775 - val_accuracy: 0.4091\n",
            "Epoch 60/300\n",
            "4/4 [==============================] - 0s 18ms/step - loss: 1.1344 - accuracy: 0.6818 - val_loss: 1.2683 - val_accuracy: 0.4545\n",
            "Epoch 61/300\n",
            "4/4 [==============================] - 0s 17ms/step - loss: 1.1230 - accuracy: 0.6818 - val_loss: 1.2661 - val_accuracy: 0.4545\n",
            "Epoch 62/300\n",
            "4/4 [==============================] - 0s 16ms/step - loss: 1.1140 - accuracy: 0.6970 - val_loss: 1.2595 - val_accuracy: 0.5000\n",
            "Epoch 63/300\n",
            "4/4 [==============================] - 0s 12ms/step - loss: 1.1060 - accuracy: 0.6970 - val_loss: 1.2517 - val_accuracy: 0.4545\n",
            "Epoch 64/300\n",
            "4/4 [==============================] - 0s 13ms/step - loss: 1.0963 - accuracy: 0.6970 - val_loss: 1.2404 - val_accuracy: 0.5455\n",
            "Epoch 65/300\n",
            "4/4 [==============================] - 0s 12ms/step - loss: 1.0847 - accuracy: 0.6818 - val_loss: 1.2346 - val_accuracy: 0.5455\n",
            "Epoch 66/300\n",
            "4/4 [==============================] - 0s 14ms/step - loss: 1.0759 - accuracy: 0.6818 - val_loss: 1.2270 - val_accuracy: 0.5455\n",
            "Epoch 67/300\n",
            "4/4 [==============================] - 0s 13ms/step - loss: 1.0683 - accuracy: 0.6970 - val_loss: 1.2194 - val_accuracy: 0.5455\n",
            "Epoch 68/300\n",
            "4/4 [==============================] - 0s 13ms/step - loss: 1.0588 - accuracy: 0.6818 - val_loss: 1.2146 - val_accuracy: 0.5455\n",
            "Epoch 69/300\n",
            "4/4 [==============================] - 0s 13ms/step - loss: 1.0489 - accuracy: 0.6818 - val_loss: 1.2087 - val_accuracy: 0.5455\n",
            "Epoch 70/300\n",
            "4/4 [==============================] - 0s 13ms/step - loss: 1.0414 - accuracy: 0.6818 - val_loss: 1.1969 - val_accuracy: 0.5455\n",
            "Epoch 71/300\n",
            "4/4 [==============================] - 0s 13ms/step - loss: 1.0327 - accuracy: 0.6667 - val_loss: 1.1879 - val_accuracy: 0.5455\n",
            "Epoch 72/300\n",
            "4/4 [==============================] - 0s 14ms/step - loss: 1.0246 - accuracy: 0.6667 - val_loss: 1.1873 - val_accuracy: 0.5455\n",
            "Epoch 73/300\n",
            "4/4 [==============================] - 0s 12ms/step - loss: 1.0169 - accuracy: 0.6818 - val_loss: 1.1862 - val_accuracy: 0.5455\n",
            "Epoch 74/300\n",
            "4/4 [==============================] - 0s 15ms/step - loss: 1.0084 - accuracy: 0.6970 - val_loss: 1.1804 - val_accuracy: 0.5455\n",
            "Epoch 75/300\n",
            "4/4 [==============================] - 0s 18ms/step - loss: 1.0008 - accuracy: 0.6818 - val_loss: 1.1756 - val_accuracy: 0.5455\n",
            "Epoch 76/300\n",
            "4/4 [==============================] - 0s 13ms/step - loss: 0.9915 - accuracy: 0.6818 - val_loss: 1.1673 - val_accuracy: 0.5455\n",
            "Epoch 77/300\n",
            "4/4 [==============================] - 0s 14ms/step - loss: 0.9851 - accuracy: 0.6970 - val_loss: 1.1602 - val_accuracy: 0.5455\n",
            "Epoch 78/300\n",
            "4/4 [==============================] - 0s 13ms/step - loss: 0.9772 - accuracy: 0.6970 - val_loss: 1.1470 - val_accuracy: 0.5455\n",
            "Epoch 79/300\n",
            "4/4 [==============================] - 0s 14ms/step - loss: 0.9699 - accuracy: 0.6818 - val_loss: 1.1402 - val_accuracy: 0.5455\n",
            "Epoch 80/300\n",
            "4/4 [==============================] - 0s 19ms/step - loss: 0.9622 - accuracy: 0.6818 - val_loss: 1.1308 - val_accuracy: 0.5455\n",
            "Epoch 81/300\n",
            "4/4 [==============================] - 0s 13ms/step - loss: 0.9563 - accuracy: 0.6818 - val_loss: 1.1357 - val_accuracy: 0.5455\n",
            "Epoch 82/300\n",
            "4/4 [==============================] - 0s 16ms/step - loss: 0.9489 - accuracy: 0.6818 - val_loss: 1.1395 - val_accuracy: 0.5455\n",
            "Epoch 83/300\n",
            "4/4 [==============================] - 0s 21ms/step - loss: 0.9436 - accuracy: 0.6818 - val_loss: 1.1287 - val_accuracy: 0.5455\n",
            "Epoch 84/300\n",
            "4/4 [==============================] - 0s 13ms/step - loss: 0.9342 - accuracy: 0.6818 - val_loss: 1.1219 - val_accuracy: 0.5455\n",
            "Epoch 85/300\n",
            "4/4 [==============================] - 0s 13ms/step - loss: 0.9268 - accuracy: 0.6818 - val_loss: 1.1117 - val_accuracy: 0.5455\n",
            "Epoch 86/300\n",
            "4/4 [==============================] - 0s 13ms/step - loss: 0.9188 - accuracy: 0.6818 - val_loss: 1.1125 - val_accuracy: 0.5455\n",
            "Epoch 87/300\n",
            "4/4 [==============================] - 0s 14ms/step - loss: 0.9129 - accuracy: 0.6818 - val_loss: 1.1026 - val_accuracy: 0.5455\n",
            "Epoch 88/300\n",
            "4/4 [==============================] - 0s 15ms/step - loss: 0.9082 - accuracy: 0.6818 - val_loss: 1.0929 - val_accuracy: 0.5455\n",
            "Epoch 89/300\n",
            "4/4 [==============================] - 0s 13ms/step - loss: 0.9019 - accuracy: 0.6667 - val_loss: 1.0848 - val_accuracy: 0.5455\n",
            "Epoch 90/300\n",
            "4/4 [==============================] - 0s 18ms/step - loss: 0.8954 - accuracy: 0.7121 - val_loss: 1.0774 - val_accuracy: 0.5455\n",
            "Epoch 91/300\n",
            "4/4 [==============================] - 0s 13ms/step - loss: 0.8883 - accuracy: 0.6970 - val_loss: 1.0722 - val_accuracy: 0.5000\n",
            "Epoch 92/300\n",
            "4/4 [==============================] - 0s 16ms/step - loss: 0.8813 - accuracy: 0.6970 - val_loss: 1.0705 - val_accuracy: 0.5000\n",
            "Epoch 93/300\n",
            "4/4 [==============================] - 0s 17ms/step - loss: 0.8731 - accuracy: 0.6970 - val_loss: 1.0632 - val_accuracy: 0.5000\n",
            "Epoch 94/300\n",
            "4/4 [==============================] - 0s 13ms/step - loss: 0.8665 - accuracy: 0.6970 - val_loss: 1.0725 - val_accuracy: 0.5000\n",
            "Epoch 95/300\n",
            "4/4 [==============================] - 0s 14ms/step - loss: 0.8607 - accuracy: 0.7121 - val_loss: 1.0679 - val_accuracy: 0.5000\n",
            "Epoch 96/300\n",
            "4/4 [==============================] - 0s 14ms/step - loss: 0.8533 - accuracy: 0.7121 - val_loss: 1.0547 - val_accuracy: 0.5000\n",
            "Epoch 97/300\n",
            "4/4 [==============================] - 0s 15ms/step - loss: 0.8467 - accuracy: 0.7121 - val_loss: 1.0466 - val_accuracy: 0.5000\n",
            "Epoch 98/300\n",
            "4/4 [==============================] - 0s 13ms/step - loss: 0.8432 - accuracy: 0.7121 - val_loss: 1.0402 - val_accuracy: 0.5000\n",
            "Epoch 99/300\n",
            "4/4 [==============================] - 0s 14ms/step - loss: 0.8366 - accuracy: 0.7121 - val_loss: 1.0305 - val_accuracy: 0.5000\n",
            "Epoch 100/300\n",
            "4/4 [==============================] - 0s 13ms/step - loss: 0.8304 - accuracy: 0.7121 - val_loss: 1.0196 - val_accuracy: 0.5000\n",
            "Epoch 101/300\n",
            "4/4 [==============================] - 0s 20ms/step - loss: 0.8258 - accuracy: 0.7121 - val_loss: 1.0189 - val_accuracy: 0.5000\n",
            "Epoch 102/300\n",
            "4/4 [==============================] - 0s 16ms/step - loss: 0.8206 - accuracy: 0.7273 - val_loss: 1.0245 - val_accuracy: 0.5000\n",
            "Epoch 103/300\n",
            "4/4 [==============================] - 0s 13ms/step - loss: 0.8135 - accuracy: 0.7273 - val_loss: 1.0158 - val_accuracy: 0.5000\n",
            "Epoch 104/300\n",
            "4/4 [==============================] - 0s 15ms/step - loss: 0.8052 - accuracy: 0.7424 - val_loss: 1.0183 - val_accuracy: 0.5000\n",
            "Epoch 105/300\n",
            "4/4 [==============================] - 0s 13ms/step - loss: 0.7993 - accuracy: 0.7424 - val_loss: 1.0054 - val_accuracy: 0.5455\n",
            "Epoch 106/300\n",
            "4/4 [==============================] - 0s 13ms/step - loss: 0.7925 - accuracy: 0.7576 - val_loss: 1.0001 - val_accuracy: 0.5455\n",
            "Epoch 107/300\n",
            "4/4 [==============================] - 0s 13ms/step - loss: 0.7876 - accuracy: 0.7727 - val_loss: 0.9973 - val_accuracy: 0.5455\n",
            "Epoch 108/300\n",
            "4/4 [==============================] - 0s 12ms/step - loss: 0.7836 - accuracy: 0.7576 - val_loss: 0.9938 - val_accuracy: 0.5455\n",
            "Epoch 109/300\n",
            "4/4 [==============================] - 0s 13ms/step - loss: 0.7773 - accuracy: 0.7576 - val_loss: 0.9844 - val_accuracy: 0.5000\n",
            "Epoch 110/300\n",
            "4/4 [==============================] - 0s 16ms/step - loss: 0.7740 - accuracy: 0.7576 - val_loss: 0.9807 - val_accuracy: 0.5455\n",
            "Epoch 111/300\n",
            "4/4 [==============================] - 0s 13ms/step - loss: 0.7672 - accuracy: 0.7576 - val_loss: 0.9762 - val_accuracy: 0.5455\n",
            "Epoch 112/300\n",
            "4/4 [==============================] - 0s 13ms/step - loss: 0.7593 - accuracy: 0.8030 - val_loss: 0.9734 - val_accuracy: 0.5455\n",
            "Epoch 113/300\n",
            "4/4 [==============================] - 0s 14ms/step - loss: 0.7550 - accuracy: 0.8030 - val_loss: 0.9701 - val_accuracy: 0.5455\n",
            "Epoch 114/300\n",
            "4/4 [==============================] - 0s 14ms/step - loss: 0.7490 - accuracy: 0.8182 - val_loss: 0.9760 - val_accuracy: 0.5455\n",
            "Epoch 115/300\n",
            "4/4 [==============================] - 0s 13ms/step - loss: 0.7432 - accuracy: 0.8182 - val_loss: 0.9709 - val_accuracy: 0.5455\n",
            "Epoch 116/300\n",
            "4/4 [==============================] - 0s 14ms/step - loss: 0.7385 - accuracy: 0.8182 - val_loss: 0.9683 - val_accuracy: 0.5455\n",
            "Epoch 117/300\n",
            "4/4 [==============================] - 0s 14ms/step - loss: 0.7340 - accuracy: 0.8182 - val_loss: 0.9686 - val_accuracy: 0.5455\n",
            "Epoch 118/300\n",
            "4/4 [==============================] - 0s 14ms/step - loss: 0.7287 - accuracy: 0.8030 - val_loss: 0.9610 - val_accuracy: 0.5455\n",
            "Epoch 119/300\n",
            "4/4 [==============================] - 0s 16ms/step - loss: 0.7261 - accuracy: 0.8182 - val_loss: 0.9732 - val_accuracy: 0.5455\n",
            "Epoch 120/300\n",
            "4/4 [==============================] - 0s 13ms/step - loss: 0.7201 - accuracy: 0.8030 - val_loss: 0.9652 - val_accuracy: 0.5455\n",
            "Epoch 121/300\n",
            "4/4 [==============================] - 0s 14ms/step - loss: 0.7132 - accuracy: 0.8030 - val_loss: 0.9628 - val_accuracy: 0.5455\n",
            "Epoch 122/300\n",
            "4/4 [==============================] - 0s 14ms/step - loss: 0.7119 - accuracy: 0.8030 - val_loss: 0.9632 - val_accuracy: 0.5455\n",
            "Epoch 123/300\n",
            "4/4 [==============================] - 0s 19ms/step - loss: 0.7029 - accuracy: 0.8030 - val_loss: 0.9655 - val_accuracy: 0.5455\n",
            "Epoch 124/300\n",
            "4/4 [==============================] - 0s 22ms/step - loss: 0.7000 - accuracy: 0.8030 - val_loss: 0.9541 - val_accuracy: 0.5455\n",
            "Epoch 125/300\n",
            "4/4 [==============================] - 0s 14ms/step - loss: 0.6962 - accuracy: 0.8030 - val_loss: 0.9563 - val_accuracy: 0.5455\n",
            "Epoch 126/300\n",
            "4/4 [==============================] - 0s 15ms/step - loss: 0.6907 - accuracy: 0.8030 - val_loss: 0.9450 - val_accuracy: 0.5455\n",
            "Epoch 127/300\n",
            "4/4 [==============================] - 0s 17ms/step - loss: 0.6850 - accuracy: 0.8030 - val_loss: 0.9531 - val_accuracy: 0.5455\n",
            "Epoch 128/300\n",
            "4/4 [==============================] - 0s 15ms/step - loss: 0.6800 - accuracy: 0.8030 - val_loss: 0.9449 - val_accuracy: 0.5455\n",
            "Epoch 129/300\n",
            "4/4 [==============================] - 0s 13ms/step - loss: 0.6748 - accuracy: 0.8030 - val_loss: 0.9379 - val_accuracy: 0.5909\n",
            "Epoch 130/300\n",
            "4/4 [==============================] - 0s 21ms/step - loss: 0.6708 - accuracy: 0.8030 - val_loss: 0.9298 - val_accuracy: 0.5909\n",
            "Epoch 131/300\n",
            "4/4 [==============================] - 0s 20ms/step - loss: 0.6674 - accuracy: 0.8030 - val_loss: 0.9369 - val_accuracy: 0.5909\n",
            "Epoch 132/300\n",
            "4/4 [==============================] - 0s 21ms/step - loss: 0.6605 - accuracy: 0.8030 - val_loss: 0.9256 - val_accuracy: 0.5909\n",
            "Epoch 133/300\n",
            "4/4 [==============================] - 0s 22ms/step - loss: 0.6581 - accuracy: 0.8030 - val_loss: 0.9335 - val_accuracy: 0.5455\n",
            "Epoch 134/300\n",
            "4/4 [==============================] - 0s 23ms/step - loss: 0.6558 - accuracy: 0.8030 - val_loss: 0.9317 - val_accuracy: 0.5909\n",
            "Epoch 135/300\n",
            "4/4 [==============================] - 0s 25ms/step - loss: 0.6487 - accuracy: 0.8030 - val_loss: 0.9330 - val_accuracy: 0.5455\n",
            "Epoch 136/300\n",
            "4/4 [==============================] - 0s 22ms/step - loss: 0.6435 - accuracy: 0.8030 - val_loss: 0.9461 - val_accuracy: 0.5455\n",
            "Epoch 137/300\n",
            "4/4 [==============================] - 0s 23ms/step - loss: 0.6385 - accuracy: 0.8030 - val_loss: 0.9434 - val_accuracy: 0.5909\n",
            "Epoch 138/300\n",
            "4/4 [==============================] - 0s 21ms/step - loss: 0.6344 - accuracy: 0.8030 - val_loss: 0.9445 - val_accuracy: 0.5909\n",
            "Epoch 139/300\n",
            "4/4 [==============================] - 0s 28ms/step - loss: 0.6299 - accuracy: 0.8030 - val_loss: 0.9454 - val_accuracy: 0.5909\n",
            "Epoch 140/300\n",
            "4/4 [==============================] - 0s 25ms/step - loss: 0.6287 - accuracy: 0.7879 - val_loss: 0.9499 - val_accuracy: 0.5909\n",
            "Epoch 141/300\n",
            "4/4 [==============================] - 0s 29ms/step - loss: 0.6217 - accuracy: 0.8030 - val_loss: 0.9385 - val_accuracy: 0.5455\n",
            "Epoch 142/300\n",
            "4/4 [==============================] - 0s 20ms/step - loss: 0.6177 - accuracy: 0.8030 - val_loss: 0.9409 - val_accuracy: 0.5455\n",
            "Epoch 143/300\n",
            "4/4 [==============================] - 0s 19ms/step - loss: 0.6141 - accuracy: 0.8030 - val_loss: 0.9507 - val_accuracy: 0.5455\n",
            "Epoch 144/300\n",
            "4/4 [==============================] - 0s 21ms/step - loss: 0.6102 - accuracy: 0.8030 - val_loss: 0.9547 - val_accuracy: 0.5455\n",
            "Epoch 145/300\n",
            "4/4 [==============================] - 0s 22ms/step - loss: 0.6047 - accuracy: 0.8030 - val_loss: 0.9469 - val_accuracy: 0.5909\n",
            "Epoch 146/300\n",
            "4/4 [==============================] - 0s 24ms/step - loss: 0.6013 - accuracy: 0.8030 - val_loss: 0.9383 - val_accuracy: 0.5909\n",
            "Epoch 147/300\n",
            "4/4 [==============================] - 0s 19ms/step - loss: 0.5984 - accuracy: 0.8030 - val_loss: 0.9419 - val_accuracy: 0.5455\n",
            "Epoch 148/300\n",
            "4/4 [==============================] - 0s 26ms/step - loss: 0.5934 - accuracy: 0.8030 - val_loss: 0.9360 - val_accuracy: 0.5909\n",
            "Epoch 149/300\n",
            "4/4 [==============================] - 0s 26ms/step - loss: 0.5909 - accuracy: 0.8182 - val_loss: 0.9333 - val_accuracy: 0.5909\n",
            "Epoch 150/300\n",
            "4/4 [==============================] - 0s 26ms/step - loss: 0.5878 - accuracy: 0.8182 - val_loss: 0.9665 - val_accuracy: 0.5909\n",
            "Epoch 151/300\n",
            "4/4 [==============================] - 0s 20ms/step - loss: 0.5854 - accuracy: 0.8030 - val_loss: 0.9439 - val_accuracy: 0.5909\n",
            "Epoch 152/300\n",
            "4/4 [==============================] - 0s 19ms/step - loss: 0.5801 - accuracy: 0.8030 - val_loss: 0.9415 - val_accuracy: 0.5909\n",
            "Epoch 153/300\n",
            "4/4 [==============================] - 0s 27ms/step - loss: 0.5773 - accuracy: 0.8030 - val_loss: 0.9477 - val_accuracy: 0.5909\n",
            "Epoch 154/300\n",
            "4/4 [==============================] - 0s 30ms/step - loss: 0.5747 - accuracy: 0.8182 - val_loss: 0.9594 - val_accuracy: 0.5909\n",
            "Epoch 155/300\n",
            "4/4 [==============================] - 0s 31ms/step - loss: 0.5694 - accuracy: 0.8030 - val_loss: 0.9598 - val_accuracy: 0.5909\n",
            "Epoch 156/300\n",
            "4/4 [==============================] - 0s 18ms/step - loss: 0.5664 - accuracy: 0.8030 - val_loss: 0.9774 - val_accuracy: 0.5909\n",
            "Epoch 157/300\n",
            "4/4 [==============================] - 0s 27ms/step - loss: 0.5653 - accuracy: 0.8030 - val_loss: 0.9501 - val_accuracy: 0.5909\n",
            "Epoch 158/300\n",
            "4/4 [==============================] - 0s 25ms/step - loss: 0.5595 - accuracy: 0.8030 - val_loss: 0.9441 - val_accuracy: 0.5909\n",
            "Epoch 159/300\n",
            "4/4 [==============================] - 0s 26ms/step - loss: 0.5583 - accuracy: 0.8030 - val_loss: 0.9504 - val_accuracy: 0.5909\n",
            "Epoch 160/300\n",
            "4/4 [==============================] - 0s 22ms/step - loss: 0.5531 - accuracy: 0.8030 - val_loss: 0.9570 - val_accuracy: 0.5909\n",
            "Epoch 161/300\n",
            "4/4 [==============================] - 0s 18ms/step - loss: 0.5494 - accuracy: 0.8030 - val_loss: 0.9460 - val_accuracy: 0.5455\n",
            "Epoch 162/300\n",
            "4/4 [==============================] - 0s 23ms/step - loss: 0.5466 - accuracy: 0.8030 - val_loss: 0.9345 - val_accuracy: 0.6364\n",
            "Epoch 163/300\n",
            "4/4 [==============================] - 0s 19ms/step - loss: 0.5443 - accuracy: 0.8030 - val_loss: 0.9382 - val_accuracy: 0.5909\n",
            "Epoch 164/300\n",
            "4/4 [==============================] - 0s 24ms/step - loss: 0.5391 - accuracy: 0.8030 - val_loss: 0.9443 - val_accuracy: 0.5455\n",
            "Epoch 165/300\n",
            "4/4 [==============================] - 0s 27ms/step - loss: 0.5350 - accuracy: 0.8030 - val_loss: 0.9472 - val_accuracy: 0.5909\n",
            "Epoch 166/300\n",
            "4/4 [==============================] - 0s 19ms/step - loss: 0.5331 - accuracy: 0.8182 - val_loss: 0.9499 - val_accuracy: 0.5909\n",
            "Epoch 167/300\n",
            "4/4 [==============================] - 0s 18ms/step - loss: 0.5300 - accuracy: 0.8182 - val_loss: 0.9512 - val_accuracy: 0.5909\n",
            "Epoch 168/300\n",
            "4/4 [==============================] - 0s 27ms/step - loss: 0.5277 - accuracy: 0.8182 - val_loss: 0.9438 - val_accuracy: 0.5909\n",
            "Epoch 169/300\n",
            "4/4 [==============================] - 0s 22ms/step - loss: 0.5237 - accuracy: 0.8182 - val_loss: 0.9689 - val_accuracy: 0.5909\n",
            "Epoch 170/300\n",
            "4/4 [==============================] - 0s 24ms/step - loss: 0.5240 - accuracy: 0.8485 - val_loss: 0.9365 - val_accuracy: 0.5909\n",
            "Epoch 171/300\n",
            "4/4 [==============================] - 0s 20ms/step - loss: 0.5170 - accuracy: 0.8182 - val_loss: 0.9486 - val_accuracy: 0.5909\n",
            "Epoch 172/300\n",
            "4/4 [==============================] - 0s 25ms/step - loss: 0.5180 - accuracy: 0.8182 - val_loss: 0.9414 - val_accuracy: 0.5909\n",
            "Epoch 173/300\n",
            "4/4 [==============================] - 0s 19ms/step - loss: 0.5092 - accuracy: 0.8030 - val_loss: 0.9435 - val_accuracy: 0.5909\n",
            "Epoch 174/300\n",
            "4/4 [==============================] - 0s 27ms/step - loss: 0.5068 - accuracy: 0.8030 - val_loss: 0.9314 - val_accuracy: 0.5909\n",
            "Epoch 175/300\n",
            "4/4 [==============================] - 0s 26ms/step - loss: 0.5102 - accuracy: 0.8182 - val_loss: 0.9467 - val_accuracy: 0.6364\n",
            "Epoch 176/300\n",
            "4/4 [==============================] - 0s 20ms/step - loss: 0.5032 - accuracy: 0.8030 - val_loss: 0.9434 - val_accuracy: 0.5909\n",
            "Epoch 177/300\n",
            "4/4 [==============================] - 0s 28ms/step - loss: 0.5000 - accuracy: 0.8182 - val_loss: 0.9564 - val_accuracy: 0.5909\n",
            "Epoch 178/300\n",
            "4/4 [==============================] - 0s 30ms/step - loss: 0.4970 - accuracy: 0.8030 - val_loss: 0.9579 - val_accuracy: 0.5909\n",
            "Epoch 179/300\n",
            "4/4 [==============================] - 0s 19ms/step - loss: 0.4920 - accuracy: 0.8333 - val_loss: 0.9566 - val_accuracy: 0.6364\n",
            "Epoch 180/300\n",
            "4/4 [==============================] - 0s 20ms/step - loss: 0.4913 - accuracy: 0.8182 - val_loss: 0.9685 - val_accuracy: 0.5909\n",
            "Epoch 181/300\n",
            "4/4 [==============================] - 0s 21ms/step - loss: 0.4957 - accuracy: 0.8182 - val_loss: 0.9813 - val_accuracy: 0.5909\n",
            "Epoch 182/300\n",
            "4/4 [==============================] - 0s 19ms/step - loss: 0.4888 - accuracy: 0.8182 - val_loss: 0.9755 - val_accuracy: 0.6364\n",
            "Epoch 183/300\n",
            "4/4 [==============================] - 0s 25ms/step - loss: 0.4843 - accuracy: 0.8333 - val_loss: 0.9643 - val_accuracy: 0.5909\n",
            "Epoch 184/300\n",
            "4/4 [==============================] - 0s 25ms/step - loss: 0.4826 - accuracy: 0.8333 - val_loss: 0.9614 - val_accuracy: 0.5909\n",
            "Epoch 185/300\n",
            "4/4 [==============================] - 0s 19ms/step - loss: 0.4749 - accuracy: 0.8485 - val_loss: 0.9606 - val_accuracy: 0.5909\n",
            "Epoch 186/300\n",
            "4/4 [==============================] - 0s 27ms/step - loss: 0.4713 - accuracy: 0.8333 - val_loss: 0.9721 - val_accuracy: 0.6364\n",
            "Epoch 187/300\n",
            "4/4 [==============================] - 0s 20ms/step - loss: 0.4780 - accuracy: 0.8182 - val_loss: 0.9777 - val_accuracy: 0.6364\n",
            "Epoch 188/300\n",
            "4/4 [==============================] - 0s 26ms/step - loss: 0.4692 - accuracy: 0.8333 - val_loss: 0.9910 - val_accuracy: 0.6364\n",
            "Epoch 189/300\n",
            "4/4 [==============================] - 0s 29ms/step - loss: 0.4644 - accuracy: 0.8030 - val_loss: 0.9966 - val_accuracy: 0.5909\n",
            "Epoch 190/300\n",
            "4/4 [==============================] - 0s 22ms/step - loss: 0.4605 - accuracy: 0.8333 - val_loss: 1.0079 - val_accuracy: 0.5909\n",
            "Epoch 191/300\n",
            "4/4 [==============================] - 0s 21ms/step - loss: 0.4565 - accuracy: 0.8182 - val_loss: 1.0006 - val_accuracy: 0.5909\n",
            "Epoch 192/300\n",
            "4/4 [==============================] - 0s 26ms/step - loss: 0.4559 - accuracy: 0.8182 - val_loss: 0.9973 - val_accuracy: 0.5909\n",
            "Epoch 193/300\n",
            "4/4 [==============================] - 0s 21ms/step - loss: 0.4515 - accuracy: 0.8333 - val_loss: 1.0132 - val_accuracy: 0.5909\n",
            "Epoch 194/300\n",
            "4/4 [==============================] - 0s 20ms/step - loss: 0.4507 - accuracy: 0.8333 - val_loss: 0.9946 - val_accuracy: 0.6364\n",
            "Epoch 195/300\n",
            "4/4 [==============================] - 0s 26ms/step - loss: 0.4518 - accuracy: 0.8182 - val_loss: 0.9886 - val_accuracy: 0.6818\n",
            "Epoch 196/300\n",
            "4/4 [==============================] - 0s 22ms/step - loss: 0.4523 - accuracy: 0.8182 - val_loss: 0.9988 - val_accuracy: 0.5909\n",
            "Epoch 197/300\n",
            "4/4 [==============================] - 0s 23ms/step - loss: 0.4432 - accuracy: 0.8333 - val_loss: 0.9863 - val_accuracy: 0.6364\n",
            "Epoch 198/300\n",
            "4/4 [==============================] - 0s 17ms/step - loss: 0.4410 - accuracy: 0.8333 - val_loss: 1.0040 - val_accuracy: 0.6818\n",
            "Epoch 199/300\n",
            "4/4 [==============================] - 0s 14ms/step - loss: 0.4392 - accuracy: 0.8485 - val_loss: 1.0202 - val_accuracy: 0.5909\n",
            "Epoch 200/300\n",
            "4/4 [==============================] - 0s 20ms/step - loss: 0.4362 - accuracy: 0.8030 - val_loss: 1.0131 - val_accuracy: 0.5909\n",
            "Epoch 201/300\n",
            "4/4 [==============================] - 0s 14ms/step - loss: 0.4327 - accuracy: 0.8333 - val_loss: 0.9859 - val_accuracy: 0.6818\n",
            "Epoch 202/300\n",
            "4/4 [==============================] - 0s 14ms/step - loss: 0.4328 - accuracy: 0.8333 - val_loss: 0.9887 - val_accuracy: 0.6364\n",
            "Epoch 203/300\n",
            "4/4 [==============================] - 0s 17ms/step - loss: 0.4320 - accuracy: 0.8485 - val_loss: 1.0224 - val_accuracy: 0.6818\n",
            "Epoch 204/300\n",
            "4/4 [==============================] - 0s 14ms/step - loss: 0.4287 - accuracy: 0.8333 - val_loss: 1.0163 - val_accuracy: 0.6818\n",
            "Epoch 205/300\n",
            "4/4 [==============================] - 0s 13ms/step - loss: 0.4360 - accuracy: 0.8182 - val_loss: 1.0342 - val_accuracy: 0.6364\n",
            "Epoch 206/300\n",
            "4/4 [==============================] - 0s 14ms/step - loss: 0.4222 - accuracy: 0.8636 - val_loss: 1.0408 - val_accuracy: 0.6364\n",
            "Epoch 207/300\n",
            "4/4 [==============================] - 0s 13ms/step - loss: 0.4191 - accuracy: 0.8636 - val_loss: 1.0381 - val_accuracy: 0.6364\n",
            "Epoch 208/300\n",
            "4/4 [==============================] - 0s 15ms/step - loss: 0.4137 - accuracy: 0.8636 - val_loss: 1.0466 - val_accuracy: 0.6364\n",
            "Epoch 209/300\n",
            "4/4 [==============================] - 0s 14ms/step - loss: 0.4131 - accuracy: 0.8636 - val_loss: 1.0577 - val_accuracy: 0.5909\n",
            "Epoch 210/300\n",
            "4/4 [==============================] - 0s 15ms/step - loss: 0.4095 - accuracy: 0.8788 - val_loss: 1.0453 - val_accuracy: 0.6364\n",
            "Epoch 211/300\n",
            "4/4 [==============================] - 0s 14ms/step - loss: 0.4056 - accuracy: 0.8939 - val_loss: 1.0576 - val_accuracy: 0.5909\n",
            "Epoch 212/300\n",
            "4/4 [==============================] - 0s 15ms/step - loss: 0.4047 - accuracy: 0.8636 - val_loss: 1.0523 - val_accuracy: 0.5909\n",
            "Epoch 213/300\n",
            "4/4 [==============================] - 0s 14ms/step - loss: 0.4027 - accuracy: 0.8788 - val_loss: 1.0563 - val_accuracy: 0.5909\n",
            "Epoch 214/300\n",
            "4/4 [==============================] - 0s 14ms/step - loss: 0.4010 - accuracy: 0.8636 - val_loss: 1.0470 - val_accuracy: 0.6364\n",
            "Epoch 215/300\n",
            "4/4 [==============================] - 0s 15ms/step - loss: 0.3987 - accuracy: 0.8939 - val_loss: 1.0493 - val_accuracy: 0.6364\n",
            "Epoch 216/300\n",
            "4/4 [==============================] - 0s 13ms/step - loss: 0.3953 - accuracy: 0.8788 - val_loss: 1.0609 - val_accuracy: 0.5909\n",
            "Epoch 217/300\n",
            "4/4 [==============================] - 0s 20ms/step - loss: 0.3914 - accuracy: 0.8939 - val_loss: 1.0648 - val_accuracy: 0.6364\n",
            "Epoch 218/300\n",
            "4/4 [==============================] - 0s 14ms/step - loss: 0.3898 - accuracy: 0.8939 - val_loss: 1.0694 - val_accuracy: 0.6364\n",
            "Epoch 219/300\n",
            "4/4 [==============================] - 0s 13ms/step - loss: 0.3887 - accuracy: 0.8939 - val_loss: 1.0840 - val_accuracy: 0.6364\n",
            "Epoch 220/300\n",
            "4/4 [==============================] - 0s 13ms/step - loss: 0.3868 - accuracy: 0.8939 - val_loss: 1.0739 - val_accuracy: 0.6818\n",
            "Epoch 221/300\n",
            "4/4 [==============================] - 0s 15ms/step - loss: 0.3865 - accuracy: 0.8485 - val_loss: 1.0709 - val_accuracy: 0.6364\n",
            "Epoch 222/300\n",
            "4/4 [==============================] - 0s 14ms/step - loss: 0.3815 - accuracy: 0.8939 - val_loss: 1.0691 - val_accuracy: 0.6818\n",
            "Epoch 223/300\n",
            "4/4 [==============================] - 0s 13ms/step - loss: 0.3832 - accuracy: 0.8636 - val_loss: 1.0982 - val_accuracy: 0.5909\n",
            "Epoch 224/300\n",
            "4/4 [==============================] - 0s 14ms/step - loss: 0.3781 - accuracy: 0.8939 - val_loss: 1.0814 - val_accuracy: 0.6818\n",
            "Epoch 225/300\n",
            "4/4 [==============================] - 0s 13ms/step - loss: 0.3772 - accuracy: 0.8788 - val_loss: 1.1179 - val_accuracy: 0.6364\n",
            "Epoch 226/300\n",
            "4/4 [==============================] - 0s 13ms/step - loss: 0.3740 - accuracy: 0.8788 - val_loss: 1.1058 - val_accuracy: 0.5909\n",
            "Epoch 227/300\n",
            "4/4 [==============================] - 0s 14ms/step - loss: 0.3721 - accuracy: 0.8788 - val_loss: 1.1247 - val_accuracy: 0.5909\n",
            "Epoch 228/300\n",
            "4/4 [==============================] - 0s 13ms/step - loss: 0.3724 - accuracy: 0.8636 - val_loss: 1.1427 - val_accuracy: 0.5909\n",
            "Epoch 229/300\n",
            "4/4 [==============================] - 0s 13ms/step - loss: 0.3675 - accuracy: 0.8939 - val_loss: 1.1368 - val_accuracy: 0.6364\n",
            "Epoch 230/300\n",
            "4/4 [==============================] - 0s 14ms/step - loss: 0.3666 - accuracy: 0.8788 - val_loss: 1.1187 - val_accuracy: 0.6818\n",
            "Epoch 231/300\n",
            "4/4 [==============================] - 0s 15ms/step - loss: 0.3664 - accuracy: 0.8788 - val_loss: 1.1239 - val_accuracy: 0.6364\n",
            "Epoch 232/300\n",
            "4/4 [==============================] - 0s 13ms/step - loss: 0.3615 - accuracy: 0.8939 - val_loss: 1.1372 - val_accuracy: 0.6364\n",
            "Epoch 233/300\n",
            "4/4 [==============================] - 0s 13ms/step - loss: 0.3609 - accuracy: 0.8788 - val_loss: 1.1348 - val_accuracy: 0.6364\n",
            "Epoch 234/300\n",
            "4/4 [==============================] - 0s 14ms/step - loss: 0.3559 - accuracy: 0.8939 - val_loss: 1.1581 - val_accuracy: 0.6364\n",
            "Epoch 235/300\n",
            "4/4 [==============================] - 0s 14ms/step - loss: 0.3550 - accuracy: 0.8788 - val_loss: 1.1759 - val_accuracy: 0.5909\n",
            "Epoch 236/300\n",
            "4/4 [==============================] - 0s 19ms/step - loss: 0.3504 - accuracy: 0.8939 - val_loss: 1.1687 - val_accuracy: 0.5909\n",
            "Epoch 237/300\n",
            "4/4 [==============================] - 0s 16ms/step - loss: 0.3481 - accuracy: 0.9091 - val_loss: 1.1681 - val_accuracy: 0.6364\n",
            "Epoch 238/300\n",
            "4/4 [==============================] - 0s 13ms/step - loss: 0.3434 - accuracy: 0.8939 - val_loss: 1.1726 - val_accuracy: 0.5909\n",
            "Epoch 239/300\n",
            "4/4 [==============================] - 0s 16ms/step - loss: 0.3428 - accuracy: 0.9091 - val_loss: 1.1767 - val_accuracy: 0.5909\n",
            "Epoch 240/300\n",
            "4/4 [==============================] - 0s 13ms/step - loss: 0.3393 - accuracy: 0.9091 - val_loss: 1.1837 - val_accuracy: 0.5909\n",
            "Epoch 241/300\n",
            "4/4 [==============================] - 0s 20ms/step - loss: 0.3389 - accuracy: 0.9091 - val_loss: 1.1760 - val_accuracy: 0.5909\n",
            "Epoch 242/300\n",
            "4/4 [==============================] - 0s 15ms/step - loss: 0.3376 - accuracy: 0.9091 - val_loss: 1.1868 - val_accuracy: 0.5909\n",
            "Epoch 243/300\n",
            "4/4 [==============================] - 0s 13ms/step - loss: 0.3343 - accuracy: 0.9242 - val_loss: 1.1883 - val_accuracy: 0.5909\n",
            "Epoch 244/300\n",
            "4/4 [==============================] - 0s 15ms/step - loss: 0.3326 - accuracy: 0.9091 - val_loss: 1.1691 - val_accuracy: 0.6364\n",
            "Epoch 245/300\n",
            "4/4 [==============================] - 0s 13ms/step - loss: 0.3329 - accuracy: 0.9091 - val_loss: 1.1854 - val_accuracy: 0.5909\n",
            "Epoch 246/300\n",
            "4/4 [==============================] - 0s 19ms/step - loss: 0.3296 - accuracy: 0.9091 - val_loss: 1.1705 - val_accuracy: 0.6364\n",
            "Epoch 247/300\n",
            "4/4 [==============================] - 0s 15ms/step - loss: 0.3276 - accuracy: 0.8788 - val_loss: 1.1726 - val_accuracy: 0.6818\n",
            "Epoch 248/300\n",
            "4/4 [==============================] - 0s 14ms/step - loss: 0.3355 - accuracy: 0.8788 - val_loss: 1.1814 - val_accuracy: 0.6818\n",
            "Epoch 249/300\n",
            "4/4 [==============================] - 0s 15ms/step - loss: 0.3267 - accuracy: 0.8939 - val_loss: 1.1902 - val_accuracy: 0.6818\n",
            "Epoch 250/300\n",
            "4/4 [==============================] - 0s 14ms/step - loss: 0.3235 - accuracy: 0.8939 - val_loss: 1.1963 - val_accuracy: 0.6364\n",
            "Epoch 251/300\n",
            "4/4 [==============================] - 0s 13ms/step - loss: 0.3178 - accuracy: 0.9091 - val_loss: 1.1959 - val_accuracy: 0.5909\n",
            "Epoch 252/300\n",
            "4/4 [==============================] - 0s 13ms/step - loss: 0.3199 - accuracy: 0.9091 - val_loss: 1.1967 - val_accuracy: 0.6364\n",
            "Epoch 253/300\n",
            "4/4 [==============================] - 0s 14ms/step - loss: 0.3170 - accuracy: 0.9091 - val_loss: 1.2123 - val_accuracy: 0.5909\n",
            "Epoch 254/300\n",
            "4/4 [==============================] - 0s 14ms/step - loss: 0.3130 - accuracy: 0.9091 - val_loss: 1.2319 - val_accuracy: 0.5909\n",
            "Epoch 255/300\n",
            "4/4 [==============================] - 0s 14ms/step - loss: 0.3130 - accuracy: 0.9091 - val_loss: 1.2529 - val_accuracy: 0.5909\n",
            "Epoch 256/300\n",
            "4/4 [==============================] - 0s 17ms/step - loss: 0.3138 - accuracy: 0.9091 - val_loss: 1.2416 - val_accuracy: 0.5909\n",
            "Epoch 257/300\n",
            "4/4 [==============================] - 0s 14ms/step - loss: 0.3107 - accuracy: 0.8939 - val_loss: 1.2202 - val_accuracy: 0.5909\n",
            "Epoch 258/300\n",
            "4/4 [==============================] - 0s 14ms/step - loss: 0.3063 - accuracy: 0.9091 - val_loss: 1.2270 - val_accuracy: 0.5909\n",
            "Epoch 259/300\n",
            "4/4 [==============================] - 0s 14ms/step - loss: 0.3038 - accuracy: 0.9242 - val_loss: 1.2438 - val_accuracy: 0.5909\n",
            "Epoch 260/300\n",
            "4/4 [==============================] - 0s 13ms/step - loss: 0.3023 - accuracy: 0.9091 - val_loss: 1.2277 - val_accuracy: 0.5909\n",
            "Epoch 261/300\n",
            "4/4 [==============================] - 0s 19ms/step - loss: 0.3020 - accuracy: 0.9091 - val_loss: 1.2366 - val_accuracy: 0.5909\n",
            "Epoch 262/300\n",
            "4/4 [==============================] - 0s 14ms/step - loss: 0.3005 - accuracy: 0.9091 - val_loss: 1.2196 - val_accuracy: 0.6364\n",
            "Epoch 263/300\n",
            "4/4 [==============================] - 0s 14ms/step - loss: 0.2997 - accuracy: 0.9091 - val_loss: 1.1999 - val_accuracy: 0.6818\n",
            "Epoch 264/300\n",
            "4/4 [==============================] - 0s 20ms/step - loss: 0.3028 - accuracy: 0.8939 - val_loss: 1.2406 - val_accuracy: 0.5909\n",
            "Epoch 265/300\n",
            "4/4 [==============================] - 0s 14ms/step - loss: 0.2943 - accuracy: 0.9091 - val_loss: 1.2564 - val_accuracy: 0.5909\n",
            "Epoch 266/300\n",
            "4/4 [==============================] - 0s 16ms/step - loss: 0.2932 - accuracy: 0.9091 - val_loss: 1.2642 - val_accuracy: 0.5455\n",
            "Epoch 267/300\n",
            "4/4 [==============================] - 0s 14ms/step - loss: 0.2923 - accuracy: 0.9242 - val_loss: 1.2156 - val_accuracy: 0.6818\n",
            "Epoch 268/300\n",
            "4/4 [==============================] - 0s 15ms/step - loss: 0.2931 - accuracy: 0.9091 - val_loss: 1.2084 - val_accuracy: 0.6364\n",
            "Epoch 269/300\n",
            "4/4 [==============================] - 0s 15ms/step - loss: 0.2909 - accuracy: 0.9091 - val_loss: 1.2301 - val_accuracy: 0.5909\n",
            "Epoch 270/300\n",
            "4/4 [==============================] - 0s 15ms/step - loss: 0.2889 - accuracy: 0.9091 - val_loss: 1.2443 - val_accuracy: 0.5909\n",
            "Epoch 271/300\n",
            "4/4 [==============================] - 0s 14ms/step - loss: 0.2881 - accuracy: 0.9091 - val_loss: 1.2538 - val_accuracy: 0.5909\n",
            "Epoch 272/300\n",
            "4/4 [==============================] - 0s 15ms/step - loss: 0.2843 - accuracy: 0.9091 - val_loss: 1.2552 - val_accuracy: 0.5909\n",
            "Epoch 273/300\n",
            "4/4 [==============================] - 0s 20ms/step - loss: 0.2833 - accuracy: 0.9242 - val_loss: 1.2291 - val_accuracy: 0.6364\n",
            "Epoch 274/300\n",
            "4/4 [==============================] - 0s 16ms/step - loss: 0.2826 - accuracy: 0.9091 - val_loss: 1.2584 - val_accuracy: 0.6364\n",
            "Epoch 275/300\n",
            "4/4 [==============================] - 0s 16ms/step - loss: 0.2785 - accuracy: 0.9091 - val_loss: 1.2657 - val_accuracy: 0.5455\n",
            "Epoch 276/300\n",
            "4/4 [==============================] - 0s 14ms/step - loss: 0.2785 - accuracy: 0.9091 - val_loss: 1.2694 - val_accuracy: 0.5909\n",
            "Epoch 277/300\n",
            "4/4 [==============================] - 0s 15ms/step - loss: 0.2757 - accuracy: 0.9242 - val_loss: 1.2679 - val_accuracy: 0.5455\n",
            "Epoch 278/300\n",
            "4/4 [==============================] - 0s 15ms/step - loss: 0.2746 - accuracy: 0.9091 - val_loss: 1.3009 - val_accuracy: 0.5909\n",
            "Epoch 279/300\n",
            "4/4 [==============================] - 0s 13ms/step - loss: 0.2740 - accuracy: 0.9091 - val_loss: 1.3554 - val_accuracy: 0.5455\n",
            "Epoch 280/300\n",
            "4/4 [==============================] - 0s 15ms/step - loss: 0.2756 - accuracy: 0.9394 - val_loss: 1.3375 - val_accuracy: 0.5455\n",
            "Epoch 281/300\n",
            "4/4 [==============================] - 0s 15ms/step - loss: 0.2704 - accuracy: 0.9545 - val_loss: 1.3299 - val_accuracy: 0.5455\n",
            "Epoch 282/300\n",
            "4/4 [==============================] - 0s 18ms/step - loss: 0.2686 - accuracy: 0.9545 - val_loss: 1.3112 - val_accuracy: 0.5455\n",
            "Epoch 283/300\n",
            "4/4 [==============================] - 0s 13ms/step - loss: 0.2655 - accuracy: 0.9394 - val_loss: 1.3090 - val_accuracy: 0.5455\n",
            "Epoch 284/300\n",
            "4/4 [==============================] - 0s 20ms/step - loss: 0.2633 - accuracy: 0.9545 - val_loss: 1.3045 - val_accuracy: 0.5455\n",
            "Epoch 285/300\n",
            "4/4 [==============================] - 0s 14ms/step - loss: 0.2628 - accuracy: 0.9545 - val_loss: 1.3023 - val_accuracy: 0.5909\n",
            "Epoch 286/300\n",
            "4/4 [==============================] - 0s 15ms/step - loss: 0.2617 - accuracy: 0.9394 - val_loss: 1.3224 - val_accuracy: 0.5455\n",
            "Epoch 287/300\n",
            "4/4 [==============================] - 0s 14ms/step - loss: 0.2595 - accuracy: 0.9394 - val_loss: 1.3212 - val_accuracy: 0.5455\n",
            "Epoch 288/300\n",
            "4/4 [==============================] - 0s 15ms/step - loss: 0.2587 - accuracy: 0.9545 - val_loss: 1.3297 - val_accuracy: 0.5909\n",
            "Epoch 289/300\n",
            "4/4 [==============================] - 0s 16ms/step - loss: 0.2610 - accuracy: 0.9091 - val_loss: 1.3335 - val_accuracy: 0.5909\n",
            "Epoch 290/300\n",
            "4/4 [==============================] - 0s 22ms/step - loss: 0.2575 - accuracy: 0.9545 - val_loss: 1.3531 - val_accuracy: 0.5455\n",
            "Epoch 291/300\n",
            "4/4 [==============================] - 0s 15ms/step - loss: 0.2566 - accuracy: 0.9545 - val_loss: 1.3696 - val_accuracy: 0.5455\n",
            "Epoch 292/300\n",
            "4/4 [==============================] - 0s 15ms/step - loss: 0.2512 - accuracy: 0.9545 - val_loss: 1.3432 - val_accuracy: 0.5455\n",
            "Epoch 293/300\n",
            "4/4 [==============================] - 0s 15ms/step - loss: 0.2533 - accuracy: 0.9394 - val_loss: 1.3355 - val_accuracy: 0.5909\n",
            "Epoch 294/300\n",
            "4/4 [==============================] - 0s 13ms/step - loss: 0.2527 - accuracy: 0.9394 - val_loss: 1.3354 - val_accuracy: 0.5455\n",
            "Epoch 295/300\n",
            "4/4 [==============================] - 0s 15ms/step - loss: 0.2502 - accuracy: 0.9394 - val_loss: 1.3528 - val_accuracy: 0.5455\n",
            "Epoch 296/300\n",
            "4/4 [==============================] - 0s 16ms/step - loss: 0.2476 - accuracy: 0.9394 - val_loss: 1.4001 - val_accuracy: 0.5909\n",
            "Epoch 297/300\n",
            "4/4 [==============================] - 0s 15ms/step - loss: 0.2468 - accuracy: 0.9394 - val_loss: 1.4013 - val_accuracy: 0.5455\n",
            "Epoch 298/300\n",
            "4/4 [==============================] - 0s 14ms/step - loss: 0.2455 - accuracy: 0.9545 - val_loss: 1.3941 - val_accuracy: 0.5455\n",
            "Epoch 299/300\n",
            "4/4 [==============================] - 0s 15ms/step - loss: 0.2426 - accuracy: 0.9545 - val_loss: 1.4181 - val_accuracy: 0.5455\n",
            "Epoch 300/300\n",
            "4/4 [==============================] - 0s 15ms/step - loss: 0.2462 - accuracy: 0.9545 - val_loss: 1.4105 - val_accuracy: 0.5909\n"
          ]
        },
        {
          "output_type": "execute_result",
          "data": {
            "text/plain": [
              "<keras.callbacks.History at 0x7f1604929c40>"
            ]
          },
          "metadata": {},
          "execution_count": 62
        }
      ]
    },
    {
      "cell_type": "code",
      "source": [
        "# Save keras model to ONNX file \n",
        "\n",
        "onnx_model = model_to_onnx(model3, framework='keras',\n",
        "                          transfer_learning=False,\n",
        "                          deep_learning=True)\n",
        "\n",
        "with open(\"model3.onnx\", \"wb\") as f:\n",
        "    f.write(onnx_model.SerializeToString())"
      ],
      "metadata": {
        "id": "tLJy7jowYfs8"
      },
      "execution_count": null,
      "outputs": []
    },
    {
      "cell_type": "code",
      "source": [
        "# Submit keras model: \n",
        "\n",
        "#-- Generate predicted y values\n",
        "#Note: Keras predict returns the predicted column index location for classification models\n",
        "prediction_column_index=model3.predict(preprocessor(X_test)).argmax(axis=1)\n",
        "\n",
        "# extract correct prediction labels \n",
        "prediction_labels = [y_train.columns[i] for i in prediction_column_index]"
      ],
      "metadata": {
        "id": "NshsplEZYne8",
        "colab": {
          "base_uri": "https://localhost:8080/"
        },
        "outputId": "eae87a33-17dc-4153-a8f5-f89d30cd7505"
      },
      "execution_count": null,
      "outputs": [
        {
          "output_type": "stream",
          "name": "stdout",
          "text": [
            "3/3 [==============================] - 0s 8ms/step\n"
          ]
        }
      ]
    },
    {
      "cell_type": "code",
      "source": [
        "# Submit keras to Competition Leaderboard\n",
        "mycompetition.submit_model(model_filepath = \"model3.onnx\",\n",
        "                                 preprocessor_filepath=\"preprocessor.zip\",\n",
        "                                 prediction_submission=prediction_labels,\n",
        "                                 custom_metadata={\"team\":\"1\"})"
      ],
      "metadata": {
        "id": "71Ko5yhiYrIk",
        "colab": {
          "base_uri": "https://localhost:8080/"
        },
        "outputId": "59c8a59e-b93e-4bab-ad1a-011b69f56476"
      },
      "execution_count": null,
      "outputs": [
        {
          "output_type": "stream",
          "name": "stdout",
          "text": [
            "Insert search tags to help users find your model (optional): emin\n",
            "Provide any useful notes about your model (optional): emin\n",
            "\n",
            "Your model has been submitted as model version 658\n",
            "\n",
            "To submit code used to create this model or to view current leaderboard navigate to Model Playground: \n",
            "\n",
            " https://www.modelshare.org/detail/model:3164\n"
          ]
        }
      ]
    },
    {
      "cell_type": "markdown",
      "source": [
        "## Part 4: Last Three models After Speaking With Teammates"
      ],
      "metadata": {
        "id": "2rSnyZ_S6bWH"
      }
    },
    {
      "cell_type": "markdown",
      "source": [
        "We discussed the use of GridSearchCV and evaluated the most effective models for our project. Our team concluded that Gradient Boosting Classifier (GBC), Random Forest (RF), and Deep Learning models were the top performers. Examining the results on the Ai Modelshare model playground leaderboard, it is evident that the Gradient Boosting Classifier (GBC), Random Forest (RF), and Deep Learning models produced superior performance compared to other models, confirming our team's assessment. Random forest and gradient boosting are both extremely powerful tree models that necessitate precise hyperparameter selection, particularly CBC. It stands to reason that they perform well. Deep learning models are also very powerful, and due to signaling, hyperparameter tuning is significantly easier than GBC. I chose RF, GBC, and Deep Learning as my first three test models, and I intend to use them as my main models as well."
      ],
      "metadata": {
        "id": "fQEUKAUDsCjp"
      }
    },
    {
      "cell_type": "markdown",
      "source": [
        "### Fourth Model: Random Forest with GridSearchCV"
      ],
      "metadata": {
        "id": "I9kB364pa-F6"
      }
    },
    {
      "cell_type": "markdown",
      "source": [
        "Random Forest Classifier with GridSearchCV, cv = 10\n",
        "max_depth: 7, n_estimators: 110"
      ],
      "metadata": {
        "id": "6No-rY80m7Uj"
      }
    },
    {
      "cell_type": "code",
      "source": [
        "from sklearn.model_selection import GridSearchCV\n",
        "\n",
        "param_grid = {'n_estimators': np.arange(30, 150, 10),'max_depth':[3, 5, 7, 9, 11, 13]} #np.arange creates sequence of numbers for each k value\n",
        "\n",
        "model4 = GridSearchCV(RandomForestClassifier(), param_grid=param_grid, cv=10)\n",
        "\n",
        "#use meta model methods to fit score and predict model:\n",
        "model4.fit(preprocessor(X_train), y_train_labels)\n",
        "\n",
        "#extract best score and parameter by calling objects \"best_score_\" and \"best_params_\"\n",
        "print(\"best mean cross-validation score: {:.3f}\".format(model4.best_score_))\n",
        "print(\"best parameters: {}\".format(model4.best_params_))"
      ],
      "metadata": {
        "id": "jl-oU7Kd_C-Q",
        "colab": {
          "base_uri": "https://localhost:8080/"
        },
        "outputId": "133769bb-1194-4bd4-9943-365a09d34512"
      },
      "execution_count": null,
      "outputs": [
        {
          "output_type": "stream",
          "name": "stdout",
          "text": [
            "best mean cross-validation score: 0.728\n",
            "best parameters: {'max_depth': 7, 'n_estimators': 110}\n"
          ]
        }
      ]
    },
    {
      "cell_type": "code",
      "source": [
        "# Save sklearn model to local ONNX file\n",
        "\n",
        "feature_count=preprocessor(X_test).shape[1] #Get count of preprocessed features\n",
        "initial_type = [('float_input', FloatTensorType([None, feature_count]))]  # Insert correct number of preprocessed features\n",
        "\n",
        "onnx_model = model_to_onnx(model4, framework='sklearn',\n",
        "                          initial_types=initial_type,\n",
        "                          transfer_learning=False,\n",
        "                          deep_learning=False)\n",
        "\n",
        "with open(\"model4.onnx\", \"wb\") as f:\n",
        "    f.write(onnx_model.SerializeToString())"
      ],
      "metadata": {
        "id": "JYqWz8X5_HN-"
      },
      "execution_count": null,
      "outputs": []
    },
    {
      "cell_type": "code",
      "source": [
        "#Submit Model 4: \n",
        "\n",
        "#-- Generate predicted values\n",
        "prediction_labels = model4.predict(preprocessor(X_test))\n",
        "\n",
        "# Submit to Competition Leaderboard\n",
        "mycompetition.submit_model(model_filepath = \"model4.onnx\",\n",
        "                                 preprocessor_filepath=\"preprocessor.zip\",\n",
        "                                 prediction_submission=prediction_labels)"
      ],
      "metadata": {
        "id": "0G4SJX72_H-9",
        "colab": {
          "base_uri": "https://localhost:8080/"
        },
        "outputId": "40c0ee24-b292-49c4-b8a3-bcd87fb70048"
      },
      "execution_count": null,
      "outputs": [
        {
          "output_type": "stream",
          "name": "stdout",
          "text": [
            "Insert search tags to help users find your model (optional): emin\n",
            "Provide any useful notes about your model (optional): emin\n",
            "\n",
            "Your model has been submitted as model version 645\n",
            "\n",
            "To submit code used to create this model or to view current leaderboard navigate to Model Playground: \n",
            "\n",
            " https://www.modelshare.org/detail/model:3164\n"
          ]
        }
      ]
    },
    {
      "cell_type": "markdown",
      "source": [
        "### Fifth Model: GradientBoostingClassifier with GridSearchCV"
      ],
      "metadata": {
        "id": "8eLOeY1gbH4P"
      }
    },
    {
      "cell_type": "markdown",
      "source": [
        "GradientBoostingClassifier with GridSearchCV, cv = 10,\n",
        "learning_rate: 1.1, max_depth: 5, n_estimators: 49"
      ],
      "metadata": {
        "id": "zobqiD_4mkYY"
      }
    },
    {
      "cell_type": "code",
      "source": [
        "param_grid = {'n_estimators': np.arange(40, 60, 3),'learning_rate': np.arange(0.1, 2, 0.5), 'max_depth': np.arange(1, 10, 2)}\n",
        "\n",
        "model5 = GridSearchCV(GradientBoostingClassifier(random_state=0), param_grid=param_grid, cv=10)\n",
        "\n",
        "#use meta model methods to fit score and predict model:\n",
        "\n",
        "model5.fit(preprocessor(X_train), y_train_labels)\n",
        "\n",
        "#extract best score and parameter by calling objects \"best_score_\" and \"best_params_\"\n",
        "\n",
        "print(\"best mean cross-validation score: {:.3f}\".format(model5.best_score_))\n",
        "print(\"best parameters: {}\".format(model5.best_params_))"
      ],
      "metadata": {
        "id": "XYr7GjXXCAcV",
        "colab": {
          "base_uri": "https://localhost:8080/"
        },
        "outputId": "4025fb5e-0c09-4bec-a7fd-f2afec4bc229"
      },
      "execution_count": null,
      "outputs": [
        {
          "output_type": "stream",
          "name": "stdout",
          "text": [
            "best mean cross-validation score: 0.661\n",
            "best parameters: {'learning_rate': 1.1, 'max_depth': 5, 'n_estimators': 49}\n"
          ]
        }
      ]
    },
    {
      "cell_type": "code",
      "source": [
        "# Save sklearn model to local ONNX file\n",
        "\n",
        "feature_count=preprocessor(X_test).shape[1] #Get count of preprocessed features\n",
        "initial_type = [('float_input', FloatTensorType([None, feature_count]))]  # Insert correct number of preprocessed features\n",
        "\n",
        "onnx_model = model_to_onnx(model5, framework='sklearn',\n",
        "                          initial_types=initial_type,\n",
        "                          transfer_learning=False,\n",
        "                          deep_learning=False)\n",
        "\n",
        "with open(\"model5.onnx\", \"wb\") as f:\n",
        "    f.write(onnx_model.SerializeToString())"
      ],
      "metadata": {
        "id": "3lnpvhq3Dsq9"
      },
      "execution_count": null,
      "outputs": []
    },
    {
      "cell_type": "code",
      "source": [
        "#-- Generate predicted values \n",
        "prediction_labels = model5.predict(preprocessor(X_test))"
      ],
      "metadata": {
        "id": "tYE_3uiaISv4"
      },
      "execution_count": null,
      "outputs": []
    },
    {
      "cell_type": "code",
      "source": [
        "# Submit Model 5 to Competition Leaderboard\n",
        "mycompetition.submit_model(model_filepath = \"model5.onnx\",\n",
        "                                 preprocessor_filepath=\"preprocessor.zip\",\n",
        "                                 prediction_submission=prediction_labels,\n",
        "                                 custom_metadata={\"team\":\"1\"})"
      ],
      "metadata": {
        "id": "dEIWLi8fIZKX",
        "colab": {
          "base_uri": "https://localhost:8080/"
        },
        "outputId": "fbf53fe2-9809-4afa-ad57-e85c1c375ff8"
      },
      "execution_count": null,
      "outputs": [
        {
          "output_type": "stream",
          "name": "stdout",
          "text": [
            "Insert search tags to help users find your model (optional): emin\n",
            "Provide any useful notes about your model (optional): emin\n",
            "\n",
            "Your model has been submitted as model version 652\n",
            "\n",
            "To submit code used to create this model or to view current leaderboard navigate to Model Playground: \n",
            "\n",
            " https://www.modelshare.org/detail/model:3164\n"
          ]
        }
      ]
    },
    {
      "cell_type": "markdown",
      "source": [
        "### Sixth Model: Deep Learning (Sequential) More Complex"
      ],
      "metadata": {
        "id": "iHbqvamrbMNr"
      }
    },
    {
      "cell_type": "markdown",
      "source": [
        "Deep Learning (Sequential) with 128, 64, 64, 64, 32, 32, 16\n",
        "\n",
        "categorical_crossentropy, optimizer = sgd, metrics = accuracy \n",
        "\n",
        " batch_size = 20, epochs = 350, validation_split = 0.25"
      ],
      "metadata": {
        "id": "obKcntp7mEvN"
      }
    },
    {
      "cell_type": "code",
      "source": [
        "import keras\n",
        "from keras.models import Sequential\n",
        "from keras.layers import Dense, Activation\n",
        "\n",
        "feature_count=preprocessor(X_train).shape[1] #count features in input data\n",
        "\n",
        "model6 = Sequential()\n",
        "model6.add(Dense(128, input_dim=feature_count, activation='relu'))\n",
        "model6.add(Dense(64, activation='relu'))\n",
        "model6.add(Dense(64, activation='relu'))\n",
        "model6.add(Dense(64, activation='relu'))\n",
        "model6.add(Dense(32, activation='relu'))\n",
        "model6.add(Dense(32, activation='relu'))\n",
        "model6.add(Dense(16, activation='relu'))\n",
        "\n",
        "\n",
        "model6.add(Dense(5, activation='softmax')) \n",
        "\n",
        "np.random.seed(42)\n",
        "                                           \n",
        "# Compile model\n",
        "model6.compile(loss='categorical_crossentropy', optimizer='sgd', metrics=['accuracy'])\n",
        "\n",
        "# Fitting the NN to the Training set\n",
        "model6.fit(preprocessor(X_train), y_train, ## Note that keras models require a one-hot-encoded y_train object\n",
        "               batch_size = 20, \n",
        "               epochs = 350, validation_split=0.25)  "
      ],
      "metadata": {
        "id": "Vft1_IhqHkT7",
        "colab": {
          "base_uri": "https://localhost:8080/"
        },
        "outputId": "2c8ee0b4-d6a4-494b-ad7d-8882309c4d33"
      },
      "execution_count": null,
      "outputs": [
        {
          "output_type": "stream",
          "name": "stdout",
          "text": [
            "Epoch 1/350\n",
            "4/4 [==============================] - 1s 79ms/step - loss: 1.6226 - accuracy: 0.1212 - val_loss: 1.6259 - val_accuracy: 0.0455\n",
            "Epoch 2/350\n",
            "4/4 [==============================] - 0s 13ms/step - loss: 1.6184 - accuracy: 0.1667 - val_loss: 1.6242 - val_accuracy: 0.0455\n",
            "Epoch 3/350\n",
            "4/4 [==============================] - 0s 13ms/step - loss: 1.6148 - accuracy: 0.1970 - val_loss: 1.6228 - val_accuracy: 0.1364\n",
            "Epoch 4/350\n",
            "4/4 [==============================] - 0s 19ms/step - loss: 1.6123 - accuracy: 0.2424 - val_loss: 1.6216 - val_accuracy: 0.1364\n",
            "Epoch 5/350\n",
            "4/4 [==============================] - 0s 13ms/step - loss: 1.6101 - accuracy: 0.2424 - val_loss: 1.6210 - val_accuracy: 0.1364\n",
            "Epoch 6/350\n",
            "4/4 [==============================] - 0s 13ms/step - loss: 1.6078 - accuracy: 0.2879 - val_loss: 1.6208 - val_accuracy: 0.1364\n",
            "Epoch 7/350\n",
            "4/4 [==============================] - 0s 13ms/step - loss: 1.6060 - accuracy: 0.2879 - val_loss: 1.6204 - val_accuracy: 0.1364\n",
            "Epoch 8/350\n",
            "4/4 [==============================] - 0s 13ms/step - loss: 1.6036 - accuracy: 0.2879 - val_loss: 1.6196 - val_accuracy: 0.1364\n",
            "Epoch 9/350\n",
            "4/4 [==============================] - 0s 13ms/step - loss: 1.6020 - accuracy: 0.2879 - val_loss: 1.6188 - val_accuracy: 0.1364\n",
            "Epoch 10/350\n",
            "4/4 [==============================] - 0s 20ms/step - loss: 1.5997 - accuracy: 0.2879 - val_loss: 1.6179 - val_accuracy: 0.1364\n",
            "Epoch 11/350\n",
            "4/4 [==============================] - 0s 17ms/step - loss: 1.5982 - accuracy: 0.2879 - val_loss: 1.6178 - val_accuracy: 0.1364\n",
            "Epoch 12/350\n",
            "4/4 [==============================] - 0s 13ms/step - loss: 1.5971 - accuracy: 0.2879 - val_loss: 1.6162 - val_accuracy: 0.1364\n",
            "Epoch 13/350\n",
            "4/4 [==============================] - 0s 13ms/step - loss: 1.5950 - accuracy: 0.2879 - val_loss: 1.6164 - val_accuracy: 0.1364\n",
            "Epoch 14/350\n",
            "4/4 [==============================] - 0s 21ms/step - loss: 1.5930 - accuracy: 0.2879 - val_loss: 1.6163 - val_accuracy: 0.1364\n",
            "Epoch 15/350\n",
            "4/4 [==============================] - 0s 19ms/step - loss: 1.5911 - accuracy: 0.2879 - val_loss: 1.6160 - val_accuracy: 0.1364\n",
            "Epoch 16/350\n",
            "4/4 [==============================] - 0s 13ms/step - loss: 1.5896 - accuracy: 0.2879 - val_loss: 1.6152 - val_accuracy: 0.1364\n",
            "Epoch 17/350\n",
            "4/4 [==============================] - 0s 13ms/step - loss: 1.5880 - accuracy: 0.2879 - val_loss: 1.6146 - val_accuracy: 0.1364\n",
            "Epoch 18/350\n",
            "4/4 [==============================] - 0s 14ms/step - loss: 1.5860 - accuracy: 0.2879 - val_loss: 1.6147 - val_accuracy: 0.1364\n",
            "Epoch 19/350\n",
            "4/4 [==============================] - 0s 13ms/step - loss: 1.5839 - accuracy: 0.2879 - val_loss: 1.6147 - val_accuracy: 0.1364\n",
            "Epoch 20/350\n",
            "4/4 [==============================] - 0s 15ms/step - loss: 1.5824 - accuracy: 0.2879 - val_loss: 1.6154 - val_accuracy: 0.1364\n",
            "Epoch 21/350\n",
            "4/4 [==============================] - 0s 24ms/step - loss: 1.5805 - accuracy: 0.2879 - val_loss: 1.6151 - val_accuracy: 0.1364\n",
            "Epoch 22/350\n",
            "4/4 [==============================] - 0s 17ms/step - loss: 1.5788 - accuracy: 0.2879 - val_loss: 1.6149 - val_accuracy: 0.1364\n",
            "Epoch 23/350\n",
            "4/4 [==============================] - 0s 22ms/step - loss: 1.5765 - accuracy: 0.2879 - val_loss: 1.6147 - val_accuracy: 0.1364\n",
            "Epoch 24/350\n",
            "4/4 [==============================] - 0s 23ms/step - loss: 1.5745 - accuracy: 0.2879 - val_loss: 1.6142 - val_accuracy: 0.1364\n",
            "Epoch 25/350\n",
            "4/4 [==============================] - 0s 25ms/step - loss: 1.5724 - accuracy: 0.3182 - val_loss: 1.6148 - val_accuracy: 0.1364\n",
            "Epoch 26/350\n",
            "4/4 [==============================] - 0s 17ms/step - loss: 1.5705 - accuracy: 0.3030 - val_loss: 1.6156 - val_accuracy: 0.1364\n",
            "Epoch 27/350\n",
            "4/4 [==============================] - 0s 23ms/step - loss: 1.5683 - accuracy: 0.3333 - val_loss: 1.6164 - val_accuracy: 0.1364\n",
            "Epoch 28/350\n",
            "4/4 [==============================] - 0s 22ms/step - loss: 1.5659 - accuracy: 0.3333 - val_loss: 1.6162 - val_accuracy: 0.1364\n",
            "Epoch 29/350\n",
            "4/4 [==============================] - 0s 23ms/step - loss: 1.5637 - accuracy: 0.3485 - val_loss: 1.6166 - val_accuracy: 0.1364\n",
            "Epoch 30/350\n",
            "4/4 [==============================] - 0s 25ms/step - loss: 1.5616 - accuracy: 0.3485 - val_loss: 1.6151 - val_accuracy: 0.1364\n",
            "Epoch 31/350\n",
            "4/4 [==============================] - 0s 24ms/step - loss: 1.5589 - accuracy: 0.3636 - val_loss: 1.6156 - val_accuracy: 0.1364\n",
            "Epoch 32/350\n",
            "4/4 [==============================] - 0s 17ms/step - loss: 1.5562 - accuracy: 0.3636 - val_loss: 1.6139 - val_accuracy: 0.1364\n",
            "Epoch 33/350\n",
            "4/4 [==============================] - 0s 17ms/step - loss: 1.5535 - accuracy: 0.3636 - val_loss: 1.6138 - val_accuracy: 0.1364\n",
            "Epoch 34/350\n",
            "4/4 [==============================] - 0s 22ms/step - loss: 1.5502 - accuracy: 0.3636 - val_loss: 1.6116 - val_accuracy: 0.1364\n",
            "Epoch 35/350\n",
            "4/4 [==============================] - 0s 22ms/step - loss: 1.5476 - accuracy: 0.3636 - val_loss: 1.6114 - val_accuracy: 0.1364\n",
            "Epoch 36/350\n",
            "4/4 [==============================] - 0s 25ms/step - loss: 1.5434 - accuracy: 0.3636 - val_loss: 1.6105 - val_accuracy: 0.1364\n",
            "Epoch 37/350\n",
            "4/4 [==============================] - 0s 25ms/step - loss: 1.5398 - accuracy: 0.3788 - val_loss: 1.6109 - val_accuracy: 0.1364\n",
            "Epoch 38/350\n",
            "4/4 [==============================] - 0s 26ms/step - loss: 1.5358 - accuracy: 0.3939 - val_loss: 1.6102 - val_accuracy: 0.1364\n",
            "Epoch 39/350\n",
            "4/4 [==============================] - 0s 23ms/step - loss: 1.5328 - accuracy: 0.3788 - val_loss: 1.6093 - val_accuracy: 0.1364\n",
            "Epoch 40/350\n",
            "4/4 [==============================] - 0s 23ms/step - loss: 1.5281 - accuracy: 0.3788 - val_loss: 1.6071 - val_accuracy: 0.1818\n",
            "Epoch 41/350\n",
            "4/4 [==============================] - 0s 23ms/step - loss: 1.5236 - accuracy: 0.3939 - val_loss: 1.6047 - val_accuracy: 0.2273\n",
            "Epoch 42/350\n",
            "4/4 [==============================] - 0s 29ms/step - loss: 1.5193 - accuracy: 0.3939 - val_loss: 1.6028 - val_accuracy: 0.2273\n",
            "Epoch 43/350\n",
            "4/4 [==============================] - 0s 22ms/step - loss: 1.5154 - accuracy: 0.4242 - val_loss: 1.6021 - val_accuracy: 0.2273\n",
            "Epoch 44/350\n",
            "4/4 [==============================] - 0s 23ms/step - loss: 1.5114 - accuracy: 0.3939 - val_loss: 1.6016 - val_accuracy: 0.2273\n",
            "Epoch 45/350\n",
            "4/4 [==============================] - 0s 24ms/step - loss: 1.5072 - accuracy: 0.3939 - val_loss: 1.5996 - val_accuracy: 0.2273\n",
            "Epoch 46/350\n",
            "4/4 [==============================] - 0s 22ms/step - loss: 1.5029 - accuracy: 0.4091 - val_loss: 1.5991 - val_accuracy: 0.2273\n",
            "Epoch 47/350\n",
            "4/4 [==============================] - 0s 18ms/step - loss: 1.4989 - accuracy: 0.3939 - val_loss: 1.5980 - val_accuracy: 0.2273\n",
            "Epoch 48/350\n",
            "4/4 [==============================] - 0s 22ms/step - loss: 1.4945 - accuracy: 0.4242 - val_loss: 1.5964 - val_accuracy: 0.2273\n",
            "Epoch 49/350\n",
            "4/4 [==============================] - 0s 19ms/step - loss: 1.4901 - accuracy: 0.4242 - val_loss: 1.5954 - val_accuracy: 0.2273\n",
            "Epoch 50/350\n",
            "4/4 [==============================] - 0s 23ms/step - loss: 1.4867 - accuracy: 0.4242 - val_loss: 1.5937 - val_accuracy: 0.2273\n",
            "Epoch 51/350\n",
            "4/4 [==============================] - 0s 18ms/step - loss: 1.4830 - accuracy: 0.4242 - val_loss: 1.5936 - val_accuracy: 0.2273\n",
            "Epoch 52/350\n",
            "4/4 [==============================] - 0s 23ms/step - loss: 1.4785 - accuracy: 0.4394 - val_loss: 1.5920 - val_accuracy: 0.2273\n",
            "Epoch 53/350\n",
            "4/4 [==============================] - 0s 20ms/step - loss: 1.4742 - accuracy: 0.4545 - val_loss: 1.5908 - val_accuracy: 0.2273\n",
            "Epoch 54/350\n",
            "4/4 [==============================] - 0s 23ms/step - loss: 1.4705 - accuracy: 0.4545 - val_loss: 1.5857 - val_accuracy: 0.2727\n",
            "Epoch 55/350\n",
            "4/4 [==============================] - 0s 23ms/step - loss: 1.4658 - accuracy: 0.4697 - val_loss: 1.5838 - val_accuracy: 0.2727\n",
            "Epoch 56/350\n",
            "4/4 [==============================] - 0s 20ms/step - loss: 1.4616 - accuracy: 0.4545 - val_loss: 1.5811 - val_accuracy: 0.2727\n",
            "Epoch 57/350\n",
            "4/4 [==============================] - 0s 25ms/step - loss: 1.4564 - accuracy: 0.4697 - val_loss: 1.5799 - val_accuracy: 0.2727\n",
            "Epoch 58/350\n",
            "4/4 [==============================] - 0s 24ms/step - loss: 1.4509 - accuracy: 0.4697 - val_loss: 1.5790 - val_accuracy: 0.2727\n",
            "Epoch 59/350\n",
            "4/4 [==============================] - 0s 18ms/step - loss: 1.4459 - accuracy: 0.4697 - val_loss: 1.5770 - val_accuracy: 0.2727\n",
            "Epoch 60/350\n",
            "4/4 [==============================] - 0s 23ms/step - loss: 1.4411 - accuracy: 0.4697 - val_loss: 1.5742 - val_accuracy: 0.2727\n",
            "Epoch 61/350\n",
            "4/4 [==============================] - 0s 19ms/step - loss: 1.4356 - accuracy: 0.4697 - val_loss: 1.5742 - val_accuracy: 0.2727\n",
            "Epoch 62/350\n",
            "4/4 [==============================] - 0s 24ms/step - loss: 1.4299 - accuracy: 0.4697 - val_loss: 1.5732 - val_accuracy: 0.2727\n",
            "Epoch 63/350\n",
            "4/4 [==============================] - 0s 22ms/step - loss: 1.4242 - accuracy: 0.4697 - val_loss: 1.5716 - val_accuracy: 0.2727\n",
            "Epoch 64/350\n",
            "4/4 [==============================] - 0s 19ms/step - loss: 1.4187 - accuracy: 0.4697 - val_loss: 1.5708 - val_accuracy: 0.2727\n",
            "Epoch 65/350\n",
            "4/4 [==============================] - 0s 20ms/step - loss: 1.4129 - accuracy: 0.4697 - val_loss: 1.5691 - val_accuracy: 0.2727\n",
            "Epoch 66/350\n",
            "4/4 [==============================] - 0s 20ms/step - loss: 1.4069 - accuracy: 0.4697 - val_loss: 1.5680 - val_accuracy: 0.2727\n",
            "Epoch 67/350\n",
            "4/4 [==============================] - 0s 19ms/step - loss: 1.4010 - accuracy: 0.4697 - val_loss: 1.5676 - val_accuracy: 0.2727\n",
            "Epoch 68/350\n",
            "4/4 [==============================] - 0s 21ms/step - loss: 1.3945 - accuracy: 0.4697 - val_loss: 1.5669 - val_accuracy: 0.2727\n",
            "Epoch 69/350\n",
            "4/4 [==============================] - 0s 23ms/step - loss: 1.3883 - accuracy: 0.4697 - val_loss: 1.5656 - val_accuracy: 0.2727\n",
            "Epoch 70/350\n",
            "4/4 [==============================] - 0s 23ms/step - loss: 1.3821 - accuracy: 0.4697 - val_loss: 1.5645 - val_accuracy: 0.2727\n",
            "Epoch 71/350\n",
            "4/4 [==============================] - 0s 23ms/step - loss: 1.3763 - accuracy: 0.4697 - val_loss: 1.5624 - val_accuracy: 0.2727\n",
            "Epoch 72/350\n",
            "4/4 [==============================] - 0s 21ms/step - loss: 1.3705 - accuracy: 0.4697 - val_loss: 1.5597 - val_accuracy: 0.2727\n",
            "Epoch 73/350\n",
            "4/4 [==============================] - 0s 22ms/step - loss: 1.3628 - accuracy: 0.4697 - val_loss: 1.5576 - val_accuracy: 0.2727\n",
            "Epoch 74/350\n",
            "4/4 [==============================] - 0s 25ms/step - loss: 1.3562 - accuracy: 0.4697 - val_loss: 1.5564 - val_accuracy: 0.2727\n",
            "Epoch 75/350\n",
            "4/4 [==============================] - 0s 25ms/step - loss: 1.3497 - accuracy: 0.4697 - val_loss: 1.5542 - val_accuracy: 0.2727\n",
            "Epoch 76/350\n",
            "4/4 [==============================] - 0s 20ms/step - loss: 1.3433 - accuracy: 0.4697 - val_loss: 1.5519 - val_accuracy: 0.2727\n",
            "Epoch 77/350\n",
            "4/4 [==============================] - 0s 25ms/step - loss: 1.3357 - accuracy: 0.4697 - val_loss: 1.5520 - val_accuracy: 0.2727\n",
            "Epoch 78/350\n",
            "4/4 [==============================] - 0s 25ms/step - loss: 1.3282 - accuracy: 0.4697 - val_loss: 1.5508 - val_accuracy: 0.2727\n",
            "Epoch 79/350\n",
            "4/4 [==============================] - 0s 27ms/step - loss: 1.3207 - accuracy: 0.4697 - val_loss: 1.5496 - val_accuracy: 0.2727\n",
            "Epoch 80/350\n",
            "4/4 [==============================] - 0s 29ms/step - loss: 1.3133 - accuracy: 0.4848 - val_loss: 1.5464 - val_accuracy: 0.2727\n",
            "Epoch 81/350\n",
            "4/4 [==============================] - 0s 23ms/step - loss: 1.3062 - accuracy: 0.4848 - val_loss: 1.5440 - val_accuracy: 0.2727\n",
            "Epoch 82/350\n",
            "4/4 [==============================] - 0s 19ms/step - loss: 1.2994 - accuracy: 0.5000 - val_loss: 1.5432 - val_accuracy: 0.3182\n",
            "Epoch 83/350\n",
            "4/4 [==============================] - 0s 26ms/step - loss: 1.2915 - accuracy: 0.5303 - val_loss: 1.5404 - val_accuracy: 0.3182\n",
            "Epoch 84/350\n",
            "4/4 [==============================] - 0s 20ms/step - loss: 1.2838 - accuracy: 0.5303 - val_loss: 1.5406 - val_accuracy: 0.2727\n",
            "Epoch 85/350\n",
            "4/4 [==============================] - 0s 24ms/step - loss: 1.2760 - accuracy: 0.5303 - val_loss: 1.5413 - val_accuracy: 0.2727\n",
            "Epoch 86/350\n",
            "4/4 [==============================] - 0s 20ms/step - loss: 1.2680 - accuracy: 0.5000 - val_loss: 1.5404 - val_accuracy: 0.3182\n",
            "Epoch 87/350\n",
            "4/4 [==============================] - 0s 13ms/step - loss: 1.2608 - accuracy: 0.5303 - val_loss: 1.5388 - val_accuracy: 0.3182\n",
            "Epoch 88/350\n",
            "4/4 [==============================] - 0s 13ms/step - loss: 1.2523 - accuracy: 0.5606 - val_loss: 1.5396 - val_accuracy: 0.2727\n",
            "Epoch 89/350\n",
            "4/4 [==============================] - 0s 15ms/step - loss: 1.2437 - accuracy: 0.5303 - val_loss: 1.5366 - val_accuracy: 0.3182\n",
            "Epoch 90/350\n",
            "4/4 [==============================] - 0s 14ms/step - loss: 1.2369 - accuracy: 0.5455 - val_loss: 1.5345 - val_accuracy: 0.3182\n",
            "Epoch 91/350\n",
            "4/4 [==============================] - 0s 13ms/step - loss: 1.2281 - accuracy: 0.5606 - val_loss: 1.5338 - val_accuracy: 0.3182\n",
            "Epoch 92/350\n",
            "4/4 [==============================] - 0s 14ms/step - loss: 1.2215 - accuracy: 0.5758 - val_loss: 1.5308 - val_accuracy: 0.3182\n",
            "Epoch 93/350\n",
            "4/4 [==============================] - 0s 12ms/step - loss: 1.2134 - accuracy: 0.5606 - val_loss: 1.5318 - val_accuracy: 0.3182\n",
            "Epoch 94/350\n",
            "4/4 [==============================] - 0s 14ms/step - loss: 1.2066 - accuracy: 0.5606 - val_loss: 1.5263 - val_accuracy: 0.3182\n",
            "Epoch 95/350\n",
            "4/4 [==============================] - 0s 19ms/step - loss: 1.1980 - accuracy: 0.5758 - val_loss: 1.5275 - val_accuracy: 0.3182\n",
            "Epoch 96/350\n",
            "4/4 [==============================] - 0s 14ms/step - loss: 1.1910 - accuracy: 0.5606 - val_loss: 1.5270 - val_accuracy: 0.3182\n",
            "Epoch 97/350\n",
            "4/4 [==============================] - 0s 14ms/step - loss: 1.1833 - accuracy: 0.5758 - val_loss: 1.5224 - val_accuracy: 0.3182\n",
            "Epoch 98/350\n",
            "4/4 [==============================] - 0s 14ms/step - loss: 1.1768 - accuracy: 0.5606 - val_loss: 1.5231 - val_accuracy: 0.3182\n",
            "Epoch 99/350\n",
            "4/4 [==============================] - 0s 13ms/step - loss: 1.1693 - accuracy: 0.5606 - val_loss: 1.5202 - val_accuracy: 0.3182\n",
            "Epoch 100/350\n",
            "4/4 [==============================] - 0s 12ms/step - loss: 1.1620 - accuracy: 0.5758 - val_loss: 1.5211 - val_accuracy: 0.4091\n",
            "Epoch 101/350\n",
            "4/4 [==============================] - 0s 13ms/step - loss: 1.1547 - accuracy: 0.5909 - val_loss: 1.5195 - val_accuracy: 0.4091\n",
            "Epoch 102/350\n",
            "4/4 [==============================] - 0s 19ms/step - loss: 1.1480 - accuracy: 0.6061 - val_loss: 1.5172 - val_accuracy: 0.4091\n",
            "Epoch 103/350\n",
            "4/4 [==============================] - 0s 13ms/step - loss: 1.1403 - accuracy: 0.6061 - val_loss: 1.5118 - val_accuracy: 0.4091\n",
            "Epoch 104/350\n",
            "4/4 [==============================] - 0s 14ms/step - loss: 1.1313 - accuracy: 0.6061 - val_loss: 1.5107 - val_accuracy: 0.4091\n",
            "Epoch 105/350\n",
            "4/4 [==============================] - 0s 13ms/step - loss: 1.1234 - accuracy: 0.6061 - val_loss: 1.5096 - val_accuracy: 0.4091\n",
            "Epoch 106/350\n",
            "4/4 [==============================] - 0s 12ms/step - loss: 1.1161 - accuracy: 0.6061 - val_loss: 1.5092 - val_accuracy: 0.4091\n",
            "Epoch 107/350\n",
            "4/4 [==============================] - 0s 13ms/step - loss: 1.1091 - accuracy: 0.6061 - val_loss: 1.5098 - val_accuracy: 0.4091\n",
            "Epoch 108/350\n",
            "4/4 [==============================] - 0s 13ms/step - loss: 1.1006 - accuracy: 0.6061 - val_loss: 1.5077 - val_accuracy: 0.3636\n",
            "Epoch 109/350\n",
            "4/4 [==============================] - 0s 13ms/step - loss: 1.0922 - accuracy: 0.5909 - val_loss: 1.5083 - val_accuracy: 0.4091\n",
            "Epoch 110/350\n",
            "4/4 [==============================] - 0s 13ms/step - loss: 1.0840 - accuracy: 0.5909 - val_loss: 1.5142 - val_accuracy: 0.4091\n",
            "Epoch 111/350\n",
            "4/4 [==============================] - 0s 12ms/step - loss: 1.0770 - accuracy: 0.6061 - val_loss: 1.5145 - val_accuracy: 0.3636\n",
            "Epoch 112/350\n",
            "4/4 [==============================] - 0s 12ms/step - loss: 1.0704 - accuracy: 0.5758 - val_loss: 1.5160 - val_accuracy: 0.3636\n",
            "Epoch 113/350\n",
            "4/4 [==============================] - 0s 15ms/step - loss: 1.0634 - accuracy: 0.5909 - val_loss: 1.5117 - val_accuracy: 0.4091\n",
            "Epoch 114/350\n",
            "4/4 [==============================] - 0s 21ms/step - loss: 1.0537 - accuracy: 0.6061 - val_loss: 1.5045 - val_accuracy: 0.4091\n",
            "Epoch 115/350\n",
            "4/4 [==============================] - 0s 13ms/step - loss: 1.0475 - accuracy: 0.6061 - val_loss: 1.4958 - val_accuracy: 0.4091\n",
            "Epoch 116/350\n",
            "4/4 [==============================] - 0s 13ms/step - loss: 1.0385 - accuracy: 0.6061 - val_loss: 1.4981 - val_accuracy: 0.4091\n",
            "Epoch 117/350\n",
            "4/4 [==============================] - 0s 13ms/step - loss: 1.0319 - accuracy: 0.6061 - val_loss: 1.4907 - val_accuracy: 0.4091\n",
            "Epoch 118/350\n",
            "4/4 [==============================] - 0s 13ms/step - loss: 1.0243 - accuracy: 0.5909 - val_loss: 1.4946 - val_accuracy: 0.4091\n",
            "Epoch 119/350\n",
            "4/4 [==============================] - 0s 15ms/step - loss: 1.0169 - accuracy: 0.6061 - val_loss: 1.4876 - val_accuracy: 0.4091\n",
            "Epoch 120/350\n",
            "4/4 [==============================] - 0s 16ms/step - loss: 1.0096 - accuracy: 0.6061 - val_loss: 1.4885 - val_accuracy: 0.4545\n",
            "Epoch 121/350\n",
            "4/4 [==============================] - 0s 14ms/step - loss: 1.0039 - accuracy: 0.6212 - val_loss: 1.4792 - val_accuracy: 0.4091\n",
            "Epoch 122/350\n",
            "4/4 [==============================] - 0s 14ms/step - loss: 0.9967 - accuracy: 0.6212 - val_loss: 1.4867 - val_accuracy: 0.4091\n",
            "Epoch 123/350\n",
            "4/4 [==============================] - 0s 13ms/step - loss: 0.9896 - accuracy: 0.6212 - val_loss: 1.4908 - val_accuracy: 0.4091\n",
            "Epoch 124/350\n",
            "4/4 [==============================] - 0s 13ms/step - loss: 0.9805 - accuracy: 0.6061 - val_loss: 1.4904 - val_accuracy: 0.4545\n",
            "Epoch 125/350\n",
            "4/4 [==============================] - 0s 14ms/step - loss: 0.9730 - accuracy: 0.6212 - val_loss: 1.4847 - val_accuracy: 0.4091\n",
            "Epoch 126/350\n",
            "4/4 [==============================] - 0s 14ms/step - loss: 0.9648 - accuracy: 0.6364 - val_loss: 1.4823 - val_accuracy: 0.4091\n",
            "Epoch 127/350\n",
            "4/4 [==============================] - 0s 13ms/step - loss: 0.9582 - accuracy: 0.6364 - val_loss: 1.4774 - val_accuracy: 0.4091\n",
            "Epoch 128/350\n",
            "4/4 [==============================] - 0s 14ms/step - loss: 0.9502 - accuracy: 0.6364 - val_loss: 1.4767 - val_accuracy: 0.4091\n",
            "Epoch 129/350\n",
            "4/4 [==============================] - 0s 14ms/step - loss: 0.9433 - accuracy: 0.6364 - val_loss: 1.4757 - val_accuracy: 0.4091\n",
            "Epoch 130/350\n",
            "4/4 [==============================] - 0s 13ms/step - loss: 0.9399 - accuracy: 0.6364 - val_loss: 1.4698 - val_accuracy: 0.4091\n",
            "Epoch 131/350\n",
            "4/4 [==============================] - 0s 13ms/step - loss: 0.9305 - accuracy: 0.6364 - val_loss: 1.4737 - val_accuracy: 0.4545\n",
            "Epoch 132/350\n",
            "4/4 [==============================] - 0s 16ms/step - loss: 0.9269 - accuracy: 0.6515 - val_loss: 1.4793 - val_accuracy: 0.4545\n",
            "Epoch 133/350\n",
            "4/4 [==============================] - 0s 19ms/step - loss: 0.9162 - accuracy: 0.6667 - val_loss: 1.4714 - val_accuracy: 0.4091\n",
            "Epoch 134/350\n",
            "4/4 [==============================] - 0s 12ms/step - loss: 0.9092 - accuracy: 0.6515 - val_loss: 1.4690 - val_accuracy: 0.4545\n",
            "Epoch 135/350\n",
            "4/4 [==============================] - 0s 13ms/step - loss: 0.9010 - accuracy: 0.6667 - val_loss: 1.4577 - val_accuracy: 0.4545\n",
            "Epoch 136/350\n",
            "4/4 [==============================] - 0s 13ms/step - loss: 0.8938 - accuracy: 0.6818 - val_loss: 1.4558 - val_accuracy: 0.4545\n",
            "Epoch 137/350\n",
            "4/4 [==============================] - 0s 15ms/step - loss: 0.8878 - accuracy: 0.6818 - val_loss: 1.4550 - val_accuracy: 0.4091\n",
            "Epoch 138/350\n",
            "4/4 [==============================] - 0s 14ms/step - loss: 0.8802 - accuracy: 0.6667 - val_loss: 1.4611 - val_accuracy: 0.4545\n",
            "Epoch 139/350\n",
            "4/4 [==============================] - 0s 13ms/step - loss: 0.8740 - accuracy: 0.6818 - val_loss: 1.4570 - val_accuracy: 0.4091\n",
            "Epoch 140/350\n",
            "4/4 [==============================] - 0s 14ms/step - loss: 0.8652 - accuracy: 0.6667 - val_loss: 1.4484 - val_accuracy: 0.4545\n",
            "Epoch 141/350\n",
            "4/4 [==============================] - 0s 14ms/step - loss: 0.8576 - accuracy: 0.6818 - val_loss: 1.4514 - val_accuracy: 0.4545\n",
            "Epoch 142/350\n",
            "4/4 [==============================] - 0s 13ms/step - loss: 0.8520 - accuracy: 0.6818 - val_loss: 1.4554 - val_accuracy: 0.4091\n",
            "Epoch 143/350\n",
            "4/4 [==============================] - 0s 13ms/step - loss: 0.8565 - accuracy: 0.6667 - val_loss: 1.4464 - val_accuracy: 0.4091\n",
            "Epoch 144/350\n",
            "4/4 [==============================] - 0s 14ms/step - loss: 0.8389 - accuracy: 0.6818 - val_loss: 1.4532 - val_accuracy: 0.4545\n",
            "Epoch 145/350\n",
            "4/4 [==============================] - 0s 14ms/step - loss: 0.8361 - accuracy: 0.6970 - val_loss: 1.4387 - val_accuracy: 0.4545\n",
            "Epoch 146/350\n",
            "4/4 [==============================] - 0s 14ms/step - loss: 0.8230 - accuracy: 0.6970 - val_loss: 1.4308 - val_accuracy: 0.4545\n",
            "Epoch 147/350\n",
            "4/4 [==============================] - 0s 13ms/step - loss: 0.8248 - accuracy: 0.6970 - val_loss: 1.4185 - val_accuracy: 0.4545\n",
            "Epoch 148/350\n",
            "4/4 [==============================] - 0s 13ms/step - loss: 0.8123 - accuracy: 0.6970 - val_loss: 1.4197 - val_accuracy: 0.5000\n",
            "Epoch 149/350\n",
            "4/4 [==============================] - 0s 16ms/step - loss: 0.8052 - accuracy: 0.6970 - val_loss: 1.4242 - val_accuracy: 0.5000\n",
            "Epoch 150/350\n",
            "4/4 [==============================] - 0s 14ms/step - loss: 0.7974 - accuracy: 0.7424 - val_loss: 1.4109 - val_accuracy: 0.5000\n",
            "Epoch 151/350\n",
            "4/4 [==============================] - 0s 14ms/step - loss: 0.7900 - accuracy: 0.7424 - val_loss: 1.4209 - val_accuracy: 0.5000\n",
            "Epoch 152/350\n",
            "4/4 [==============================] - 0s 15ms/step - loss: 0.7856 - accuracy: 0.7576 - val_loss: 1.4350 - val_accuracy: 0.5000\n",
            "Epoch 153/350\n",
            "4/4 [==============================] - 0s 13ms/step - loss: 0.7748 - accuracy: 0.7424 - val_loss: 1.3942 - val_accuracy: 0.4545\n",
            "Epoch 154/350\n",
            "4/4 [==============================] - 0s 13ms/step - loss: 0.7783 - accuracy: 0.7576 - val_loss: 1.3994 - val_accuracy: 0.4545\n",
            "Epoch 155/350\n",
            "4/4 [==============================] - 0s 14ms/step - loss: 0.7655 - accuracy: 0.7424 - val_loss: 1.4107 - val_accuracy: 0.4545\n",
            "Epoch 156/350\n",
            "4/4 [==============================] - 0s 13ms/step - loss: 0.7573 - accuracy: 0.7576 - val_loss: 1.4098 - val_accuracy: 0.4545\n",
            "Epoch 157/350\n",
            "4/4 [==============================] - 0s 20ms/step - loss: 0.7468 - accuracy: 0.7727 - val_loss: 1.4207 - val_accuracy: 0.4545\n",
            "Epoch 158/350\n",
            "4/4 [==============================] - 0s 13ms/step - loss: 0.7366 - accuracy: 0.7576 - val_loss: 1.4323 - val_accuracy: 0.5000\n",
            "Epoch 159/350\n",
            "4/4 [==============================] - 0s 14ms/step - loss: 0.7409 - accuracy: 0.7727 - val_loss: 1.4000 - val_accuracy: 0.5000\n",
            "Epoch 160/350\n",
            "4/4 [==============================] - 0s 13ms/step - loss: 0.7345 - accuracy: 0.7727 - val_loss: 1.4123 - val_accuracy: 0.5000\n",
            "Epoch 161/350\n",
            "4/4 [==============================] - 0s 14ms/step - loss: 0.7209 - accuracy: 0.7727 - val_loss: 1.4207 - val_accuracy: 0.4545\n",
            "Epoch 162/350\n",
            "4/4 [==============================] - 0s 13ms/step - loss: 0.7129 - accuracy: 0.7576 - val_loss: 1.4189 - val_accuracy: 0.4545\n",
            "Epoch 163/350\n",
            "4/4 [==============================] - 0s 13ms/step - loss: 0.7101 - accuracy: 0.7576 - val_loss: 1.4395 - val_accuracy: 0.4091\n",
            "Epoch 164/350\n",
            "4/4 [==============================] - 0s 13ms/step - loss: 0.7138 - accuracy: 0.7576 - val_loss: 1.4249 - val_accuracy: 0.4545\n",
            "Epoch 165/350\n",
            "4/4 [==============================] - 0s 13ms/step - loss: 0.6964 - accuracy: 0.7576 - val_loss: 1.4229 - val_accuracy: 0.5000\n",
            "Epoch 166/350\n",
            "4/4 [==============================] - 0s 14ms/step - loss: 0.6879 - accuracy: 0.7576 - val_loss: 1.3958 - val_accuracy: 0.5000\n",
            "Epoch 167/350\n",
            "4/4 [==============================] - 0s 20ms/step - loss: 0.6830 - accuracy: 0.7879 - val_loss: 1.3945 - val_accuracy: 0.5000\n",
            "Epoch 168/350\n",
            "4/4 [==============================] - 0s 14ms/step - loss: 0.6739 - accuracy: 0.7727 - val_loss: 1.3885 - val_accuracy: 0.5455\n",
            "Epoch 169/350\n",
            "4/4 [==============================] - 0s 15ms/step - loss: 0.6608 - accuracy: 0.8030 - val_loss: 1.3754 - val_accuracy: 0.4545\n",
            "Epoch 170/350\n",
            "4/4 [==============================] - 0s 18ms/step - loss: 0.6617 - accuracy: 0.7727 - val_loss: 1.3861 - val_accuracy: 0.4545\n",
            "Epoch 171/350\n",
            "4/4 [==============================] - 0s 13ms/step - loss: 0.6530 - accuracy: 0.7727 - val_loss: 1.4139 - val_accuracy: 0.5000\n",
            "Epoch 172/350\n",
            "4/4 [==============================] - 0s 14ms/step - loss: 0.6466 - accuracy: 0.7727 - val_loss: 1.3811 - val_accuracy: 0.5455\n",
            "Epoch 173/350\n",
            "4/4 [==============================] - 0s 13ms/step - loss: 0.6363 - accuracy: 0.8030 - val_loss: 1.4179 - val_accuracy: 0.5455\n",
            "Epoch 174/350\n",
            "4/4 [==============================] - 0s 15ms/step - loss: 0.6426 - accuracy: 0.8030 - val_loss: 1.4042 - val_accuracy: 0.5455\n",
            "Epoch 175/350\n",
            "4/4 [==============================] - 0s 15ms/step - loss: 0.6263 - accuracy: 0.8030 - val_loss: 1.4019 - val_accuracy: 0.5455\n",
            "Epoch 176/350\n",
            "4/4 [==============================] - 0s 14ms/step - loss: 0.6160 - accuracy: 0.8182 - val_loss: 1.3983 - val_accuracy: 0.5455\n",
            "Epoch 177/350\n",
            "4/4 [==============================] - 0s 14ms/step - loss: 0.6089 - accuracy: 0.8182 - val_loss: 1.3827 - val_accuracy: 0.5455\n",
            "Epoch 178/350\n",
            "4/4 [==============================] - 0s 14ms/step - loss: 0.6115 - accuracy: 0.7879 - val_loss: 1.3914 - val_accuracy: 0.5455\n",
            "Epoch 179/350\n",
            "4/4 [==============================] - 0s 13ms/step - loss: 0.5980 - accuracy: 0.8333 - val_loss: 1.3974 - val_accuracy: 0.5000\n",
            "Epoch 180/350\n",
            "4/4 [==============================] - 0s 14ms/step - loss: 0.5902 - accuracy: 0.8182 - val_loss: 1.4098 - val_accuracy: 0.5455\n",
            "Epoch 181/350\n",
            "4/4 [==============================] - 0s 13ms/step - loss: 0.5848 - accuracy: 0.8182 - val_loss: 1.4126 - val_accuracy: 0.5455\n",
            "Epoch 182/350\n",
            "4/4 [==============================] - 0s 14ms/step - loss: 0.5766 - accuracy: 0.8333 - val_loss: 1.3914 - val_accuracy: 0.5455\n",
            "Epoch 183/350\n",
            "4/4 [==============================] - 0s 14ms/step - loss: 0.5736 - accuracy: 0.8333 - val_loss: 1.4344 - val_accuracy: 0.4545\n",
            "Epoch 184/350\n",
            "4/4 [==============================] - 0s 14ms/step - loss: 0.5963 - accuracy: 0.8333 - val_loss: 1.4304 - val_accuracy: 0.5000\n",
            "Epoch 185/350\n",
            "4/4 [==============================] - 0s 13ms/step - loss: 0.5630 - accuracy: 0.8030 - val_loss: 1.3800 - val_accuracy: 0.5455\n",
            "Epoch 186/350\n",
            "4/4 [==============================] - 0s 18ms/step - loss: 0.5553 - accuracy: 0.8333 - val_loss: 1.4195 - val_accuracy: 0.5455\n",
            "Epoch 187/350\n",
            "4/4 [==============================] - 0s 12ms/step - loss: 0.5590 - accuracy: 0.8182 - val_loss: 1.4393 - val_accuracy: 0.5000\n",
            "Epoch 188/350\n",
            "4/4 [==============================] - 0s 13ms/step - loss: 0.5503 - accuracy: 0.8333 - val_loss: 1.4410 - val_accuracy: 0.5455\n",
            "Epoch 189/350\n",
            "4/4 [==============================] - 0s 14ms/step - loss: 0.5410 - accuracy: 0.8182 - val_loss: 1.4223 - val_accuracy: 0.5000\n",
            "Epoch 190/350\n",
            "4/4 [==============================] - 0s 17ms/step - loss: 0.5283 - accuracy: 0.8333 - val_loss: 1.4119 - val_accuracy: 0.5000\n",
            "Epoch 191/350\n",
            "4/4 [==============================] - 0s 14ms/step - loss: 0.5214 - accuracy: 0.8788 - val_loss: 1.4032 - val_accuracy: 0.5455\n",
            "Epoch 192/350\n",
            "4/4 [==============================] - 0s 20ms/step - loss: 0.5176 - accuracy: 0.8636 - val_loss: 1.4294 - val_accuracy: 0.5455\n",
            "Epoch 193/350\n",
            "4/4 [==============================] - 0s 20ms/step - loss: 0.5083 - accuracy: 0.8636 - val_loss: 1.4170 - val_accuracy: 0.5455\n",
            "Epoch 194/350\n",
            "4/4 [==============================] - 0s 15ms/step - loss: 0.5090 - accuracy: 0.8485 - val_loss: 1.4462 - val_accuracy: 0.5455\n",
            "Epoch 195/350\n",
            "4/4 [==============================] - 0s 14ms/step - loss: 0.5154 - accuracy: 0.8636 - val_loss: 1.4582 - val_accuracy: 0.5000\n",
            "Epoch 196/350\n",
            "4/4 [==============================] - 0s 13ms/step - loss: 0.5089 - accuracy: 0.8939 - val_loss: 1.4118 - val_accuracy: 0.5455\n",
            "Epoch 197/350\n",
            "4/4 [==============================] - 0s 14ms/step - loss: 0.4923 - accuracy: 0.8636 - val_loss: 1.3688 - val_accuracy: 0.5455\n",
            "Epoch 198/350\n",
            "4/4 [==============================] - 0s 14ms/step - loss: 0.4866 - accuracy: 0.8485 - val_loss: 1.3783 - val_accuracy: 0.5455\n",
            "Epoch 199/350\n",
            "4/4 [==============================] - 0s 13ms/step - loss: 0.4816 - accuracy: 0.8636 - val_loss: 1.3615 - val_accuracy: 0.5455\n",
            "Epoch 200/350\n",
            "4/4 [==============================] - 0s 14ms/step - loss: 0.4785 - accuracy: 0.8939 - val_loss: 1.3614 - val_accuracy: 0.5909\n",
            "Epoch 201/350\n",
            "4/4 [==============================] - 0s 19ms/step - loss: 0.4717 - accuracy: 0.8485 - val_loss: 1.4074 - val_accuracy: 0.6364\n",
            "Epoch 202/350\n",
            "4/4 [==============================] - 0s 14ms/step - loss: 0.4659 - accuracy: 0.8636 - val_loss: 1.4523 - val_accuracy: 0.5909\n",
            "Epoch 203/350\n",
            "4/4 [==============================] - 0s 19ms/step - loss: 0.4598 - accuracy: 0.8939 - val_loss: 1.3627 - val_accuracy: 0.5909\n",
            "Epoch 204/350\n",
            "4/4 [==============================] - 0s 13ms/step - loss: 0.4638 - accuracy: 0.8485 - val_loss: 1.4298 - val_accuracy: 0.6364\n",
            "Epoch 205/350\n",
            "4/4 [==============================] - 0s 19ms/step - loss: 0.4433 - accuracy: 0.8939 - val_loss: 1.3721 - val_accuracy: 0.5909\n",
            "Epoch 206/350\n",
            "4/4 [==============================] - 0s 19ms/step - loss: 0.4454 - accuracy: 0.8636 - val_loss: 1.4611 - val_accuracy: 0.5909\n",
            "Epoch 207/350\n",
            "4/4 [==============================] - 0s 14ms/step - loss: 0.4435 - accuracy: 0.8939 - val_loss: 1.5342 - val_accuracy: 0.5909\n",
            "Epoch 208/350\n",
            "4/4 [==============================] - 0s 13ms/step - loss: 0.4633 - accuracy: 0.8636 - val_loss: 1.4385 - val_accuracy: 0.6364\n",
            "Epoch 209/350\n",
            "4/4 [==============================] - 0s 15ms/step - loss: 0.4269 - accuracy: 0.8788 - val_loss: 1.4025 - val_accuracy: 0.5455\n",
            "Epoch 210/350\n",
            "4/4 [==============================] - 0s 13ms/step - loss: 0.4330 - accuracy: 0.8485 - val_loss: 1.5163 - val_accuracy: 0.5909\n",
            "Epoch 211/350\n",
            "4/4 [==============================] - 0s 13ms/step - loss: 0.4303 - accuracy: 0.8939 - val_loss: 1.4082 - val_accuracy: 0.6818\n",
            "Epoch 212/350\n",
            "4/4 [==============================] - 0s 14ms/step - loss: 0.4106 - accuracy: 0.9091 - val_loss: 1.3974 - val_accuracy: 0.6364\n",
            "Epoch 213/350\n",
            "4/4 [==============================] - 0s 14ms/step - loss: 0.4170 - accuracy: 0.8939 - val_loss: 1.4660 - val_accuracy: 0.5455\n",
            "Epoch 214/350\n",
            "4/4 [==============================] - 0s 14ms/step - loss: 0.4112 - accuracy: 0.8939 - val_loss: 1.4620 - val_accuracy: 0.5909\n",
            "Epoch 215/350\n",
            "4/4 [==============================] - 0s 14ms/step - loss: 0.4081 - accuracy: 0.8939 - val_loss: 1.4769 - val_accuracy: 0.5909\n",
            "Epoch 216/350\n",
            "4/4 [==============================] - 0s 14ms/step - loss: 0.3982 - accuracy: 0.9242 - val_loss: 1.4726 - val_accuracy: 0.5455\n",
            "Epoch 217/350\n",
            "4/4 [==============================] - 0s 14ms/step - loss: 0.3901 - accuracy: 0.9091 - val_loss: 1.5286 - val_accuracy: 0.5909\n",
            "Epoch 218/350\n",
            "4/4 [==============================] - 0s 13ms/step - loss: 0.4026 - accuracy: 0.9091 - val_loss: 1.3980 - val_accuracy: 0.6364\n",
            "Epoch 219/350\n",
            "4/4 [==============================] - 0s 15ms/step - loss: 0.3859 - accuracy: 0.9091 - val_loss: 1.5353 - val_accuracy: 0.5909\n",
            "Epoch 220/350\n",
            "4/4 [==============================] - 0s 14ms/step - loss: 0.4001 - accuracy: 0.9091 - val_loss: 1.4255 - val_accuracy: 0.5909\n",
            "Epoch 221/350\n",
            "4/4 [==============================] - 0s 16ms/step - loss: 0.3805 - accuracy: 0.9242 - val_loss: 1.5249 - val_accuracy: 0.6364\n",
            "Epoch 222/350\n",
            "4/4 [==============================] - 0s 15ms/step - loss: 0.3847 - accuracy: 0.9091 - val_loss: 1.4611 - val_accuracy: 0.5909\n",
            "Epoch 223/350\n",
            "4/4 [==============================] - 0s 20ms/step - loss: 0.3708 - accuracy: 0.9242 - val_loss: 1.4673 - val_accuracy: 0.6364\n",
            "Epoch 224/350\n",
            "4/4 [==============================] - 0s 16ms/step - loss: 0.3678 - accuracy: 0.9091 - val_loss: 1.4761 - val_accuracy: 0.5909\n",
            "Epoch 225/350\n",
            "4/4 [==============================] - 0s 13ms/step - loss: 0.3559 - accuracy: 0.9242 - val_loss: 1.5115 - val_accuracy: 0.5455\n",
            "Epoch 226/350\n",
            "4/4 [==============================] - 0s 15ms/step - loss: 0.3619 - accuracy: 0.9242 - val_loss: 1.5343 - val_accuracy: 0.6364\n",
            "Epoch 227/350\n",
            "4/4 [==============================] - 0s 14ms/step - loss: 0.3477 - accuracy: 0.9242 - val_loss: 1.4779 - val_accuracy: 0.5909\n",
            "Epoch 228/350\n",
            "4/4 [==============================] - 0s 13ms/step - loss: 0.3439 - accuracy: 0.9242 - val_loss: 1.4953 - val_accuracy: 0.6364\n",
            "Epoch 229/350\n",
            "4/4 [==============================] - 0s 14ms/step - loss: 0.3305 - accuracy: 0.9242 - val_loss: 1.5521 - val_accuracy: 0.5909\n",
            "Epoch 230/350\n",
            "4/4 [==============================] - 0s 13ms/step - loss: 0.3310 - accuracy: 0.9242 - val_loss: 1.5591 - val_accuracy: 0.5455\n",
            "Epoch 231/350\n",
            "4/4 [==============================] - 0s 20ms/step - loss: 0.3296 - accuracy: 0.9394 - val_loss: 1.5033 - val_accuracy: 0.5455\n",
            "Epoch 232/350\n",
            "4/4 [==============================] - 0s 14ms/step - loss: 0.3321 - accuracy: 0.9242 - val_loss: 1.5683 - val_accuracy: 0.5455\n",
            "Epoch 233/350\n",
            "4/4 [==============================] - 0s 14ms/step - loss: 0.3358 - accuracy: 0.9091 - val_loss: 1.5298 - val_accuracy: 0.5455\n",
            "Epoch 234/350\n",
            "4/4 [==============================] - 0s 16ms/step - loss: 0.3090 - accuracy: 0.9394 - val_loss: 1.6095 - val_accuracy: 0.6364\n",
            "Epoch 235/350\n",
            "4/4 [==============================] - 0s 13ms/step - loss: 0.3080 - accuracy: 0.9545 - val_loss: 1.5862 - val_accuracy: 0.5909\n",
            "Epoch 236/350\n",
            "4/4 [==============================] - 0s 15ms/step - loss: 0.3107 - accuracy: 0.9242 - val_loss: 1.5255 - val_accuracy: 0.5455\n",
            "Epoch 237/350\n",
            "4/4 [==============================] - 0s 16ms/step - loss: 0.3171 - accuracy: 0.9394 - val_loss: 1.7125 - val_accuracy: 0.5909\n",
            "Epoch 238/350\n",
            "4/4 [==============================] - 0s 18ms/step - loss: 0.3152 - accuracy: 0.9394 - val_loss: 1.4929 - val_accuracy: 0.5455\n",
            "Epoch 239/350\n",
            "4/4 [==============================] - 0s 14ms/step - loss: 0.3211 - accuracy: 0.9242 - val_loss: 1.5717 - val_accuracy: 0.5909\n",
            "Epoch 240/350\n",
            "4/4 [==============================] - 0s 14ms/step - loss: 0.2975 - accuracy: 0.9394 - val_loss: 1.5702 - val_accuracy: 0.6364\n",
            "Epoch 241/350\n",
            "4/4 [==============================] - 0s 14ms/step - loss: 0.2826 - accuracy: 0.9394 - val_loss: 1.6197 - val_accuracy: 0.5909\n",
            "Epoch 242/350\n",
            "4/4 [==============================] - 0s 14ms/step - loss: 0.2876 - accuracy: 0.9545 - val_loss: 1.6126 - val_accuracy: 0.6364\n",
            "Epoch 243/350\n",
            "4/4 [==============================] - 0s 19ms/step - loss: 0.2842 - accuracy: 0.9394 - val_loss: 1.6482 - val_accuracy: 0.6364\n",
            "Epoch 244/350\n",
            "4/4 [==============================] - 0s 15ms/step - loss: 0.2755 - accuracy: 0.9394 - val_loss: 1.6215 - val_accuracy: 0.5455\n",
            "Epoch 245/350\n",
            "4/4 [==============================] - 0s 14ms/step - loss: 0.2804 - accuracy: 0.9394 - val_loss: 2.0968 - val_accuracy: 0.5000\n",
            "Epoch 246/350\n",
            "4/4 [==============================] - 0s 16ms/step - loss: 0.3690 - accuracy: 0.8939 - val_loss: 1.5977 - val_accuracy: 0.5455\n",
            "Epoch 247/350\n",
            "4/4 [==============================] - 0s 14ms/step - loss: 0.2735 - accuracy: 0.9394 - val_loss: 1.5924 - val_accuracy: 0.5455\n",
            "Epoch 248/350\n",
            "4/4 [==============================] - 0s 24ms/step - loss: 0.3087 - accuracy: 0.9242 - val_loss: 1.6708 - val_accuracy: 0.5909\n",
            "Epoch 249/350\n",
            "4/4 [==============================] - 0s 14ms/step - loss: 0.2686 - accuracy: 0.9394 - val_loss: 1.7400 - val_accuracy: 0.6364\n",
            "Epoch 250/350\n",
            "4/4 [==============================] - 0s 13ms/step - loss: 0.2643 - accuracy: 0.9394 - val_loss: 1.6687 - val_accuracy: 0.5909\n",
            "Epoch 251/350\n",
            "4/4 [==============================] - 0s 15ms/step - loss: 0.2532 - accuracy: 0.9242 - val_loss: 1.7133 - val_accuracy: 0.5909\n",
            "Epoch 252/350\n",
            "4/4 [==============================] - 0s 13ms/step - loss: 0.2569 - accuracy: 0.9394 - val_loss: 1.6685 - val_accuracy: 0.5909\n",
            "Epoch 253/350\n",
            "4/4 [==============================] - 0s 15ms/step - loss: 0.2591 - accuracy: 0.9394 - val_loss: 1.7826 - val_accuracy: 0.5909\n",
            "Epoch 254/350\n",
            "4/4 [==============================] - 0s 16ms/step - loss: 0.2568 - accuracy: 0.9545 - val_loss: 1.7414 - val_accuracy: 0.5909\n",
            "Epoch 255/350\n",
            "4/4 [==============================] - 0s 19ms/step - loss: 0.2481 - accuracy: 0.9394 - val_loss: 1.7736 - val_accuracy: 0.5909\n",
            "Epoch 256/350\n",
            "4/4 [==============================] - 0s 14ms/step - loss: 0.2561 - accuracy: 0.9242 - val_loss: 1.7498 - val_accuracy: 0.5909\n",
            "Epoch 257/350\n",
            "4/4 [==============================] - 0s 14ms/step - loss: 0.2398 - accuracy: 0.9545 - val_loss: 1.7173 - val_accuracy: 0.5909\n",
            "Epoch 258/350\n",
            "4/4 [==============================] - 0s 15ms/step - loss: 0.2492 - accuracy: 0.9394 - val_loss: 1.7566 - val_accuracy: 0.5909\n",
            "Epoch 259/350\n",
            "4/4 [==============================] - 0s 23ms/step - loss: 0.2406 - accuracy: 0.9394 - val_loss: 1.9336 - val_accuracy: 0.5455\n",
            "Epoch 260/350\n",
            "4/4 [==============================] - 0s 23ms/step - loss: 0.2704 - accuracy: 0.9697 - val_loss: 1.8999 - val_accuracy: 0.6364\n",
            "Epoch 261/350\n",
            "4/4 [==============================] - 0s 25ms/step - loss: 0.2496 - accuracy: 0.9394 - val_loss: 1.8542 - val_accuracy: 0.6364\n",
            "Epoch 262/350\n",
            "4/4 [==============================] - 0s 23ms/step - loss: 0.2571 - accuracy: 0.9242 - val_loss: 1.7701 - val_accuracy: 0.6364\n",
            "Epoch 263/350\n",
            "4/4 [==============================] - 0s 23ms/step - loss: 0.2252 - accuracy: 0.9545 - val_loss: 1.7944 - val_accuracy: 0.5909\n",
            "Epoch 264/350\n",
            "4/4 [==============================] - 0s 24ms/step - loss: 0.2261 - accuracy: 0.9545 - val_loss: 1.8055 - val_accuracy: 0.5909\n",
            "Epoch 265/350\n",
            "4/4 [==============================] - 0s 28ms/step - loss: 0.2256 - accuracy: 0.9545 - val_loss: 1.7573 - val_accuracy: 0.6818\n",
            "Epoch 266/350\n",
            "4/4 [==============================] - 0s 26ms/step - loss: 0.2286 - accuracy: 0.9545 - val_loss: 1.8486 - val_accuracy: 0.6364\n",
            "Epoch 267/350\n",
            "4/4 [==============================] - 0s 27ms/step - loss: 0.2265 - accuracy: 0.9545 - val_loss: 1.8503 - val_accuracy: 0.6364\n",
            "Epoch 268/350\n",
            "4/4 [==============================] - 0s 23ms/step - loss: 0.2379 - accuracy: 0.9394 - val_loss: 1.8562 - val_accuracy: 0.5909\n",
            "Epoch 269/350\n",
            "4/4 [==============================] - 0s 22ms/step - loss: 0.2136 - accuracy: 0.9545 - val_loss: 1.8992 - val_accuracy: 0.5909\n",
            "Epoch 270/350\n",
            "4/4 [==============================] - 0s 25ms/step - loss: 0.2186 - accuracy: 0.9394 - val_loss: 2.0096 - val_accuracy: 0.5455\n",
            "Epoch 271/350\n",
            "4/4 [==============================] - 0s 30ms/step - loss: 0.2358 - accuracy: 0.9545 - val_loss: 1.8160 - val_accuracy: 0.5909\n",
            "Epoch 272/350\n",
            "4/4 [==============================] - 0s 23ms/step - loss: 0.2077 - accuracy: 0.9545 - val_loss: 1.8651 - val_accuracy: 0.5909\n",
            "Epoch 273/350\n",
            "4/4 [==============================] - 0s 19ms/step - loss: 0.2062 - accuracy: 0.9545 - val_loss: 1.8419 - val_accuracy: 0.6818\n",
            "Epoch 274/350\n",
            "4/4 [==============================] - 0s 20ms/step - loss: 0.2040 - accuracy: 0.9545 - val_loss: 1.8523 - val_accuracy: 0.6818\n",
            "Epoch 275/350\n",
            "4/4 [==============================] - 0s 23ms/step - loss: 0.1976 - accuracy: 0.9545 - val_loss: 1.8955 - val_accuracy: 0.6364\n",
            "Epoch 276/350\n",
            "4/4 [==============================] - 0s 27ms/step - loss: 0.1981 - accuracy: 0.9545 - val_loss: 1.8686 - val_accuracy: 0.5909\n",
            "Epoch 277/350\n",
            "4/4 [==============================] - 0s 21ms/step - loss: 0.2094 - accuracy: 0.9545 - val_loss: 1.9372 - val_accuracy: 0.6364\n",
            "Epoch 278/350\n",
            "4/4 [==============================] - 0s 21ms/step - loss: 0.1961 - accuracy: 0.9545 - val_loss: 1.8763 - val_accuracy: 0.6364\n",
            "Epoch 279/350\n",
            "4/4 [==============================] - 0s 22ms/step - loss: 0.1991 - accuracy: 0.9394 - val_loss: 1.9430 - val_accuracy: 0.6364\n",
            "Epoch 280/350\n",
            "4/4 [==============================] - 0s 25ms/step - loss: 0.1907 - accuracy: 0.9545 - val_loss: 1.9942 - val_accuracy: 0.5909\n",
            "Epoch 281/350\n",
            "4/4 [==============================] - 0s 22ms/step - loss: 0.1965 - accuracy: 0.9394 - val_loss: 1.9576 - val_accuracy: 0.6364\n",
            "Epoch 282/350\n",
            "4/4 [==============================] - 0s 23ms/step - loss: 0.2423 - accuracy: 0.9242 - val_loss: 1.9910 - val_accuracy: 0.5909\n",
            "Epoch 283/350\n",
            "4/4 [==============================] - 0s 24ms/step - loss: 0.1933 - accuracy: 0.9545 - val_loss: 1.9128 - val_accuracy: 0.6818\n",
            "Epoch 284/350\n",
            "4/4 [==============================] - 0s 22ms/step - loss: 0.2004 - accuracy: 0.9545 - val_loss: 1.9419 - val_accuracy: 0.6364\n",
            "Epoch 285/350\n",
            "4/4 [==============================] - 0s 19ms/step - loss: 0.1929 - accuracy: 0.9394 - val_loss: 1.9831 - val_accuracy: 0.6364\n",
            "Epoch 286/350\n",
            "4/4 [==============================] - 0s 23ms/step - loss: 0.1888 - accuracy: 0.9545 - val_loss: 2.0622 - val_accuracy: 0.5909\n",
            "Epoch 287/350\n",
            "4/4 [==============================] - 0s 22ms/step - loss: 0.1834 - accuracy: 0.9545 - val_loss: 2.0423 - val_accuracy: 0.5909\n",
            "Epoch 288/350\n",
            "4/4 [==============================] - 0s 22ms/step - loss: 0.1789 - accuracy: 0.9545 - val_loss: 1.9984 - val_accuracy: 0.6364\n",
            "Epoch 289/350\n",
            "4/4 [==============================] - 0s 22ms/step - loss: 0.1795 - accuracy: 0.9545 - val_loss: 1.9393 - val_accuracy: 0.6364\n",
            "Epoch 290/350\n",
            "4/4 [==============================] - 0s 21ms/step - loss: 0.2212 - accuracy: 0.9394 - val_loss: 2.0463 - val_accuracy: 0.5909\n",
            "Epoch 291/350\n",
            "4/4 [==============================] - 0s 23ms/step - loss: 0.1900 - accuracy: 0.9545 - val_loss: 2.0379 - val_accuracy: 0.5909\n",
            "Epoch 292/350\n",
            "4/4 [==============================] - 0s 22ms/step - loss: 0.1785 - accuracy: 0.9545 - val_loss: 1.9928 - val_accuracy: 0.6364\n",
            "Epoch 293/350\n",
            "4/4 [==============================] - 0s 26ms/step - loss: 0.1797 - accuracy: 0.9545 - val_loss: 2.1126 - val_accuracy: 0.5909\n",
            "Epoch 294/350\n",
            "4/4 [==============================] - 0s 24ms/step - loss: 0.1742 - accuracy: 0.9394 - val_loss: 2.1077 - val_accuracy: 0.5909\n",
            "Epoch 295/350\n",
            "4/4 [==============================] - 0s 24ms/step - loss: 0.1708 - accuracy: 0.9394 - val_loss: 2.0883 - val_accuracy: 0.6818\n",
            "Epoch 296/350\n",
            "4/4 [==============================] - 0s 26ms/step - loss: 0.1783 - accuracy: 0.9545 - val_loss: 2.1132 - val_accuracy: 0.5909\n",
            "Epoch 297/350\n",
            "4/4 [==============================] - 0s 29ms/step - loss: 0.1661 - accuracy: 0.9545 - val_loss: 2.2115 - val_accuracy: 0.5909\n",
            "Epoch 298/350\n",
            "4/4 [==============================] - 0s 21ms/step - loss: 0.1696 - accuracy: 0.9545 - val_loss: 2.0876 - val_accuracy: 0.6364\n",
            "Epoch 299/350\n",
            "4/4 [==============================] - 0s 30ms/step - loss: 0.1634 - accuracy: 0.9545 - val_loss: 2.1603 - val_accuracy: 0.5909\n",
            "Epoch 300/350\n",
            "4/4 [==============================] - 0s 24ms/step - loss: 0.1670 - accuracy: 0.9545 - val_loss: 2.1493 - val_accuracy: 0.5909\n",
            "Epoch 301/350\n",
            "4/4 [==============================] - 0s 18ms/step - loss: 0.1670 - accuracy: 0.9394 - val_loss: 2.1467 - val_accuracy: 0.6364\n",
            "Epoch 302/350\n",
            "4/4 [==============================] - 0s 27ms/step - loss: 0.1651 - accuracy: 0.9697 - val_loss: 2.3722 - val_accuracy: 0.6818\n",
            "Epoch 303/350\n",
            "4/4 [==============================] - 0s 22ms/step - loss: 0.1944 - accuracy: 0.9394 - val_loss: 2.1937 - val_accuracy: 0.5909\n",
            "Epoch 304/350\n",
            "4/4 [==============================] - 0s 20ms/step - loss: 0.1618 - accuracy: 0.9545 - val_loss: 2.1177 - val_accuracy: 0.5909\n",
            "Epoch 305/350\n",
            "4/4 [==============================] - 0s 21ms/step - loss: 0.1599 - accuracy: 0.9545 - val_loss: 2.0156 - val_accuracy: 0.6818\n",
            "Epoch 306/350\n",
            "4/4 [==============================] - 0s 25ms/step - loss: 0.1629 - accuracy: 0.9697 - val_loss: 2.0773 - val_accuracy: 0.6364\n",
            "Epoch 307/350\n",
            "4/4 [==============================] - 0s 29ms/step - loss: 0.1591 - accuracy: 0.9545 - val_loss: 2.2932 - val_accuracy: 0.5455\n",
            "Epoch 308/350\n",
            "4/4 [==============================] - 0s 24ms/step - loss: 0.1720 - accuracy: 0.9545 - val_loss: 2.0613 - val_accuracy: 0.6818\n",
            "Epoch 309/350\n",
            "4/4 [==============================] - 0s 33ms/step - loss: 0.1632 - accuracy: 0.9545 - val_loss: 2.1164 - val_accuracy: 0.6364\n",
            "Epoch 310/350\n",
            "4/4 [==============================] - 0s 22ms/step - loss: 0.1476 - accuracy: 0.9697 - val_loss: 2.1636 - val_accuracy: 0.6364\n",
            "Epoch 311/350\n",
            "4/4 [==============================] - 0s 24ms/step - loss: 0.1456 - accuracy: 0.9697 - val_loss: 2.1929 - val_accuracy: 0.6364\n",
            "Epoch 312/350\n",
            "4/4 [==============================] - 0s 25ms/step - loss: 0.1449 - accuracy: 0.9545 - val_loss: 2.1851 - val_accuracy: 0.6364\n",
            "Epoch 313/350\n",
            "4/4 [==============================] - 0s 33ms/step - loss: 0.1380 - accuracy: 0.9545 - val_loss: 2.2186 - val_accuracy: 0.6818\n",
            "Epoch 314/350\n",
            "4/4 [==============================] - 0s 29ms/step - loss: 0.1399 - accuracy: 0.9545 - val_loss: 2.2574 - val_accuracy: 0.5909\n",
            "Epoch 315/350\n",
            "4/4 [==============================] - 0s 20ms/step - loss: 0.1422 - accuracy: 0.9697 - val_loss: 2.3034 - val_accuracy: 0.5909\n",
            "Epoch 316/350\n",
            "4/4 [==============================] - 0s 31ms/step - loss: 0.1381 - accuracy: 0.9697 - val_loss: 2.3829 - val_accuracy: 0.5909\n",
            "Epoch 317/350\n",
            "4/4 [==============================] - 0s 27ms/step - loss: 0.1851 - accuracy: 0.9394 - val_loss: 2.3158 - val_accuracy: 0.5909\n",
            "Epoch 318/350\n",
            "4/4 [==============================] - 0s 22ms/step - loss: 0.1401 - accuracy: 0.9394 - val_loss: 2.2705 - val_accuracy: 0.6818\n",
            "Epoch 319/350\n",
            "4/4 [==============================] - 0s 22ms/step - loss: 0.1535 - accuracy: 0.9545 - val_loss: 2.2832 - val_accuracy: 0.6364\n",
            "Epoch 320/350\n",
            "4/4 [==============================] - 0s 26ms/step - loss: 0.1416 - accuracy: 0.9545 - val_loss: 2.2359 - val_accuracy: 0.6364\n",
            "Epoch 321/350\n",
            "4/4 [==============================] - 0s 26ms/step - loss: 0.1435 - accuracy: 0.9545 - val_loss: 2.2268 - val_accuracy: 0.6364\n",
            "Epoch 322/350\n",
            "4/4 [==============================] - 0s 28ms/step - loss: 0.1375 - accuracy: 0.9545 - val_loss: 2.4033 - val_accuracy: 0.5909\n",
            "Epoch 323/350\n",
            "4/4 [==============================] - 0s 21ms/step - loss: 0.2222 - accuracy: 0.9242 - val_loss: 2.2523 - val_accuracy: 0.6364\n",
            "Epoch 324/350\n",
            "4/4 [==============================] - 0s 31ms/step - loss: 0.1319 - accuracy: 0.9697 - val_loss: 2.3106 - val_accuracy: 0.6364\n",
            "Epoch 325/350\n",
            "4/4 [==============================] - 0s 31ms/step - loss: 0.1315 - accuracy: 0.9697 - val_loss: 2.2860 - val_accuracy: 0.6818\n",
            "Epoch 326/350\n",
            "4/4 [==============================] - 0s 20ms/step - loss: 0.1285 - accuracy: 0.9697 - val_loss: 2.3520 - val_accuracy: 0.5909\n",
            "Epoch 327/350\n",
            "4/4 [==============================] - 0s 21ms/step - loss: 0.1330 - accuracy: 0.9697 - val_loss: 2.3243 - val_accuracy: 0.6364\n",
            "Epoch 328/350\n",
            "4/4 [==============================] - 0s 27ms/step - loss: 0.1284 - accuracy: 0.9697 - val_loss: 2.3068 - val_accuracy: 0.6364\n",
            "Epoch 329/350\n",
            "4/4 [==============================] - 0s 21ms/step - loss: 0.1307 - accuracy: 0.9545 - val_loss: 2.3743 - val_accuracy: 0.5909\n",
            "Epoch 330/350\n",
            "4/4 [==============================] - 0s 21ms/step - loss: 0.1279 - accuracy: 0.9545 - val_loss: 2.4934 - val_accuracy: 0.5909\n",
            "Epoch 331/350\n",
            "4/4 [==============================] - 0s 14ms/step - loss: 0.1486 - accuracy: 0.9545 - val_loss: 2.2360 - val_accuracy: 0.6364\n",
            "Epoch 332/350\n",
            "4/4 [==============================] - 0s 14ms/step - loss: 0.1359 - accuracy: 0.9545 - val_loss: 2.4322 - val_accuracy: 0.5909\n",
            "Epoch 333/350\n",
            "4/4 [==============================] - 0s 15ms/step - loss: 0.1322 - accuracy: 0.9697 - val_loss: 2.5231 - val_accuracy: 0.5909\n",
            "Epoch 334/350\n",
            "4/4 [==============================] - 0s 15ms/step - loss: 0.1360 - accuracy: 0.9545 - val_loss: 2.4108 - val_accuracy: 0.6364\n",
            "Epoch 335/350\n",
            "4/4 [==============================] - 0s 15ms/step - loss: 0.1212 - accuracy: 0.9545 - val_loss: 2.5203 - val_accuracy: 0.5909\n",
            "Epoch 336/350\n",
            "4/4 [==============================] - 0s 17ms/step - loss: 0.1333 - accuracy: 0.9545 - val_loss: 2.4286 - val_accuracy: 0.5909\n",
            "Epoch 337/350\n",
            "4/4 [==============================] - 0s 18ms/step - loss: 0.1171 - accuracy: 0.9697 - val_loss: 2.4417 - val_accuracy: 0.6364\n",
            "Epoch 338/350\n",
            "4/4 [==============================] - 0s 16ms/step - loss: 0.1134 - accuracy: 0.9848 - val_loss: 2.3240 - val_accuracy: 0.6364\n",
            "Epoch 339/350\n",
            "4/4 [==============================] - 0s 15ms/step - loss: 0.1168 - accuracy: 0.9697 - val_loss: 2.3768 - val_accuracy: 0.6364\n",
            "Epoch 340/350\n",
            "4/4 [==============================] - 0s 13ms/step - loss: 0.1100 - accuracy: 0.9848 - val_loss: 2.4209 - val_accuracy: 0.6364\n",
            "Epoch 341/350\n",
            "4/4 [==============================] - 0s 15ms/step - loss: 0.1133 - accuracy: 0.9697 - val_loss: 2.4916 - val_accuracy: 0.5909\n",
            "Epoch 342/350\n",
            "4/4 [==============================] - 0s 16ms/step - loss: 0.1125 - accuracy: 0.9848 - val_loss: 2.4141 - val_accuracy: 0.6818\n",
            "Epoch 343/350\n",
            "4/4 [==============================] - 0s 15ms/step - loss: 0.1298 - accuracy: 0.9545 - val_loss: 2.4296 - val_accuracy: 0.6818\n",
            "Epoch 344/350\n",
            "4/4 [==============================] - 0s 15ms/step - loss: 0.1086 - accuracy: 0.9697 - val_loss: 2.5592 - val_accuracy: 0.6364\n",
            "Epoch 345/350\n",
            "4/4 [==============================] - 0s 19ms/step - loss: 0.1137 - accuracy: 0.9697 - val_loss: 2.4136 - val_accuracy: 0.6364\n",
            "Epoch 346/350\n",
            "4/4 [==============================] - 0s 21ms/step - loss: 0.1196 - accuracy: 0.9697 - val_loss: 2.4502 - val_accuracy: 0.6364\n",
            "Epoch 347/350\n",
            "4/4 [==============================] - 0s 13ms/step - loss: 0.1069 - accuracy: 0.9848 - val_loss: 2.4605 - val_accuracy: 0.6364\n",
            "Epoch 348/350\n",
            "4/4 [==============================] - 0s 14ms/step - loss: 0.1077 - accuracy: 0.9697 - val_loss: 2.5352 - val_accuracy: 0.5909\n",
            "Epoch 349/350\n",
            "4/4 [==============================] - 0s 13ms/step - loss: 0.1034 - accuracy: 0.9848 - val_loss: 2.5150 - val_accuracy: 0.6364\n",
            "Epoch 350/350\n",
            "4/4 [==============================] - 0s 15ms/step - loss: 0.1026 - accuracy: 0.9848 - val_loss: 2.5218 - val_accuracy: 0.6364\n"
          ]
        },
        {
          "output_type": "execute_result",
          "data": {
            "text/plain": [
              "<keras.callbacks.History at 0x7f15f80c0e50>"
            ]
          },
          "metadata": {},
          "execution_count": 85
        }
      ]
    },
    {
      "cell_type": "code",
      "source": [
        "# Save keras model to ONNX file \n",
        "\n",
        "onnx_model = model_to_onnx(model6, framework='keras',\n",
        "                          transfer_learning=False,\n",
        "                          deep_learning=True)\n",
        "\n",
        "with open(\"model6.onnx\", \"wb\") as f:\n",
        "    f.write(onnx_model.SerializeToString())"
      ],
      "metadata": {
        "id": "9YGY8mmsHxsu"
      },
      "execution_count": null,
      "outputs": []
    },
    {
      "cell_type": "code",
      "source": [
        "# Submit keras model: \n",
        "\n",
        "#-- Generate predicted y values\n",
        "#Note: Keras predict returns the predicted column index location for classification models\n",
        "prediction_column_index=model6.predict(preprocessor(X_test)).argmax(axis=1)\n",
        "\n",
        "# extract correct prediction labels \n",
        "prediction_labels = [y_train.columns[i] for i in prediction_column_index]"
      ],
      "metadata": {
        "id": "TENxt1IKH3Kp",
        "colab": {
          "base_uri": "https://localhost:8080/"
        },
        "outputId": "30308aa6-3419-4b25-d014-6ebfc6cd1513"
      },
      "execution_count": null,
      "outputs": [
        {
          "output_type": "stream",
          "name": "stdout",
          "text": [
            "3/3 [==============================] - 0s 4ms/step\n"
          ]
        }
      ]
    },
    {
      "cell_type": "code",
      "source": [
        "# Submit keras to Competition Leaderboard\n",
        "mycompetition.submit_model(model_filepath = \"model6.onnx\",\n",
        "                                 preprocessor_filepath=\"preprocessor.zip\",\n",
        "                                 prediction_submission=prediction_labels,\n",
        "                                 custom_metadata={\"team\":\"1\"})"
      ],
      "metadata": {
        "id": "ON1U7m-yH-cO",
        "colab": {
          "base_uri": "https://localhost:8080/"
        },
        "outputId": "52a733e4-e0b5-4689-f011-2d1f8fc0b1cb"
      },
      "execution_count": null,
      "outputs": [
        {
          "output_type": "stream",
          "name": "stdout",
          "text": [
            "Insert search tags to help users find your model (optional): emin\n",
            "Provide any useful notes about your model (optional): min\n",
            "\n",
            "Your model has been submitted as model version 669\n",
            "\n",
            "To submit code used to create this model or to view current leaderboard navigate to Model Playground: \n",
            "\n",
            " https://www.modelshare.org/detail/model:3164\n"
          ]
        }
      ]
    },
    {
      "cell_type": "code",
      "source": [
        "# Check leaderboard \n",
        "\n",
        "data = mycompetition.get_leaderboard()\n",
        "mycompetition.stylize_leaderboard(data)"
      ],
      "metadata": {
        "id": "zyODCfQUIAYg"
      },
      "execution_count": null,
      "outputs": []
    }
  ]
}
